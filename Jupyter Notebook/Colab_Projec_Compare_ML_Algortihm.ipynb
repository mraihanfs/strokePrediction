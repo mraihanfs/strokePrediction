{
 "cells": [
  {
   "cell_type": "markdown",
   "metadata": {
    "id": "K6hAXVOysGL7"
   },
   "source": [
    "# Uploading CSV from previous EDA"
   ]
  },
  {
   "cell_type": "code",
   "execution_count": 56,
   "metadata": {
    "id": "NTG_wWa4smTk"
   },
   "outputs": [],
   "source": [
    "import pandas as pd\n",
    "import tensorflow as tf\n",
    "\n",
    "path = \"Preprocessing.csv\"\n",
    "df = pd.read_csv(path)\n"
   ]
  },
  {
   "cell_type": "markdown",
   "metadata": {
    "id": "kmzc8Ud7tPwn"
   },
   "source": [
    "# Preprocessing"
   ]
  },
  {
   "cell_type": "code",
   "execution_count": 57,
   "metadata": {
    "colab": {
     "base_uri": "https://localhost:8080/",
     "height": 419
    },
    "id": "6gp_O5THtdnC",
    "outputId": "ec754186-8e22-4702-d07a-c677d0895f3b"
   },
   "outputs": [],
   "source": [
    "df.drop(df[df['gender']=='Other'].index, inplace=True)"
   ]
  },
  {
   "cell_type": "markdown",
   "metadata": {
    "id": "OPDrUF2w1UiP"
   },
   "source": [
    "## Convert avg_glucose_level"
   ]
  },
  {
   "cell_type": "code",
   "execution_count": 58,
   "metadata": {
    "id": "Ye8708zR1TuG"
   },
   "outputs": [],
   "source": [
    "df['avg_glucose_level'].astype('object')\n",
    "for i, j in zip(df['avg_glucose_level'], df['avg_glucose_level'].index) :\n",
    "    if i < 70 :\n",
    "        df.loc[j, 'avg_glucose_level'] = 'Low'\n",
    "    elif i>=70 and i<140 :\n",
    "        df.loc[j, 'avg_glucose_level'] = 'Normal'\n",
    "    elif i>=140 and i<200:\n",
    "      df.loc[j, 'avg_glucose_level'] = 'Little High'\n",
    "    else:\n",
    "        df.loc[j, 'avg_glucose_level'] = 'High'"
   ]
  },
  {
   "cell_type": "code",
   "execution_count": 59,
   "metadata": {
    "colab": {
     "base_uri": "https://localhost:8080/",
     "height": 0
    },
    "id": "OzXy5Q5y2OE2",
    "outputId": "0403ca6a-6270-4050-9648-519cee99ef7c"
   },
   "outputs": [
    {
     "data": {
      "text/html": [
       "<div>\n",
       "<style scoped>\n",
       "    .dataframe tbody tr th:only-of-type {\n",
       "        vertical-align: middle;\n",
       "    }\n",
       "\n",
       "    .dataframe tbody tr th {\n",
       "        vertical-align: top;\n",
       "    }\n",
       "\n",
       "    .dataframe thead th {\n",
       "        text-align: right;\n",
       "    }\n",
       "</style>\n",
       "<table border=\"1\" class=\"dataframe\">\n",
       "  <thead>\n",
       "    <tr style=\"text-align: right;\">\n",
       "      <th></th>\n",
       "      <th>gender</th>\n",
       "      <th>age</th>\n",
       "      <th>hypertension</th>\n",
       "      <th>heart_disease</th>\n",
       "      <th>ever_married</th>\n",
       "      <th>work_type</th>\n",
       "      <th>Residence_type</th>\n",
       "      <th>avg_glucose_level</th>\n",
       "      <th>bmi</th>\n",
       "      <th>smoking_status</th>\n",
       "      <th>stroke</th>\n",
       "    </tr>\n",
       "  </thead>\n",
       "  <tbody>\n",
       "    <tr>\n",
       "      <th>0</th>\n",
       "      <td>Male</td>\n",
       "      <td>67.0</td>\n",
       "      <td>0</td>\n",
       "      <td>1</td>\n",
       "      <td>Yes</td>\n",
       "      <td>Private</td>\n",
       "      <td>Urban</td>\n",
       "      <td>High</td>\n",
       "      <td>36.600000</td>\n",
       "      <td>formerly smoked</td>\n",
       "      <td>1</td>\n",
       "    </tr>\n",
       "    <tr>\n",
       "      <th>1</th>\n",
       "      <td>Female</td>\n",
       "      <td>61.0</td>\n",
       "      <td>0</td>\n",
       "      <td>0</td>\n",
       "      <td>Yes</td>\n",
       "      <td>Self-employed</td>\n",
       "      <td>Rural</td>\n",
       "      <td>High</td>\n",
       "      <td>28.893237</td>\n",
       "      <td>never smoked</td>\n",
       "      <td>1</td>\n",
       "    </tr>\n",
       "    <tr>\n",
       "      <th>2</th>\n",
       "      <td>Male</td>\n",
       "      <td>80.0</td>\n",
       "      <td>0</td>\n",
       "      <td>1</td>\n",
       "      <td>Yes</td>\n",
       "      <td>Private</td>\n",
       "      <td>Rural</td>\n",
       "      <td>Normal</td>\n",
       "      <td>32.500000</td>\n",
       "      <td>never smoked</td>\n",
       "      <td>1</td>\n",
       "    </tr>\n",
       "    <tr>\n",
       "      <th>3</th>\n",
       "      <td>Female</td>\n",
       "      <td>49.0</td>\n",
       "      <td>0</td>\n",
       "      <td>0</td>\n",
       "      <td>Yes</td>\n",
       "      <td>Private</td>\n",
       "      <td>Urban</td>\n",
       "      <td>Little High</td>\n",
       "      <td>34.400000</td>\n",
       "      <td>smokes</td>\n",
       "      <td>1</td>\n",
       "    </tr>\n",
       "    <tr>\n",
       "      <th>4</th>\n",
       "      <td>Female</td>\n",
       "      <td>79.0</td>\n",
       "      <td>1</td>\n",
       "      <td>0</td>\n",
       "      <td>Yes</td>\n",
       "      <td>Self-employed</td>\n",
       "      <td>Rural</td>\n",
       "      <td>Little High</td>\n",
       "      <td>24.000000</td>\n",
       "      <td>never smoked</td>\n",
       "      <td>1</td>\n",
       "    </tr>\n",
       "    <tr>\n",
       "      <th>...</th>\n",
       "      <td>...</td>\n",
       "      <td>...</td>\n",
       "      <td>...</td>\n",
       "      <td>...</td>\n",
       "      <td>...</td>\n",
       "      <td>...</td>\n",
       "      <td>...</td>\n",
       "      <td>...</td>\n",
       "      <td>...</td>\n",
       "      <td>...</td>\n",
       "      <td>...</td>\n",
       "    </tr>\n",
       "    <tr>\n",
       "      <th>5105</th>\n",
       "      <td>Female</td>\n",
       "      <td>80.0</td>\n",
       "      <td>1</td>\n",
       "      <td>0</td>\n",
       "      <td>Yes</td>\n",
       "      <td>Private</td>\n",
       "      <td>Urban</td>\n",
       "      <td>Normal</td>\n",
       "      <td>28.893237</td>\n",
       "      <td>never smoked</td>\n",
       "      <td>0</td>\n",
       "    </tr>\n",
       "    <tr>\n",
       "      <th>5106</th>\n",
       "      <td>Female</td>\n",
       "      <td>81.0</td>\n",
       "      <td>0</td>\n",
       "      <td>0</td>\n",
       "      <td>Yes</td>\n",
       "      <td>Self-employed</td>\n",
       "      <td>Urban</td>\n",
       "      <td>Normal</td>\n",
       "      <td>40.000000</td>\n",
       "      <td>never smoked</td>\n",
       "      <td>0</td>\n",
       "    </tr>\n",
       "    <tr>\n",
       "      <th>5107</th>\n",
       "      <td>Female</td>\n",
       "      <td>35.0</td>\n",
       "      <td>0</td>\n",
       "      <td>0</td>\n",
       "      <td>Yes</td>\n",
       "      <td>Self-employed</td>\n",
       "      <td>Rural</td>\n",
       "      <td>Normal</td>\n",
       "      <td>30.600000</td>\n",
       "      <td>never smoked</td>\n",
       "      <td>0</td>\n",
       "    </tr>\n",
       "    <tr>\n",
       "      <th>5108</th>\n",
       "      <td>Male</td>\n",
       "      <td>51.0</td>\n",
       "      <td>0</td>\n",
       "      <td>0</td>\n",
       "      <td>Yes</td>\n",
       "      <td>Private</td>\n",
       "      <td>Rural</td>\n",
       "      <td>Little High</td>\n",
       "      <td>25.600000</td>\n",
       "      <td>formerly smoked</td>\n",
       "      <td>0</td>\n",
       "    </tr>\n",
       "    <tr>\n",
       "      <th>5109</th>\n",
       "      <td>Female</td>\n",
       "      <td>44.0</td>\n",
       "      <td>0</td>\n",
       "      <td>0</td>\n",
       "      <td>Yes</td>\n",
       "      <td>Govt_job</td>\n",
       "      <td>Urban</td>\n",
       "      <td>Normal</td>\n",
       "      <td>26.200000</td>\n",
       "      <td>Unknown</td>\n",
       "      <td>0</td>\n",
       "    </tr>\n",
       "  </tbody>\n",
       "</table>\n",
       "<p>5109 rows × 11 columns</p>\n",
       "</div>"
      ],
      "text/plain": [
       "      gender   age  hypertension  heart_disease ever_married      work_type  \\\n",
       "0       Male  67.0             0              1          Yes        Private   \n",
       "1     Female  61.0             0              0          Yes  Self-employed   \n",
       "2       Male  80.0             0              1          Yes        Private   \n",
       "3     Female  49.0             0              0          Yes        Private   \n",
       "4     Female  79.0             1              0          Yes  Self-employed   \n",
       "...      ...   ...           ...            ...          ...            ...   \n",
       "5105  Female  80.0             1              0          Yes        Private   \n",
       "5106  Female  81.0             0              0          Yes  Self-employed   \n",
       "5107  Female  35.0             0              0          Yes  Self-employed   \n",
       "5108    Male  51.0             0              0          Yes        Private   \n",
       "5109  Female  44.0             0              0          Yes       Govt_job   \n",
       "\n",
       "     Residence_type avg_glucose_level        bmi   smoking_status  stroke  \n",
       "0             Urban              High  36.600000  formerly smoked       1  \n",
       "1             Rural              High  28.893237     never smoked       1  \n",
       "2             Rural            Normal  32.500000     never smoked       1  \n",
       "3             Urban       Little High  34.400000           smokes       1  \n",
       "4             Rural       Little High  24.000000     never smoked       1  \n",
       "...             ...               ...        ...              ...     ...  \n",
       "5105          Urban            Normal  28.893237     never smoked       0  \n",
       "5106          Urban            Normal  40.000000     never smoked       0  \n",
       "5107          Rural            Normal  30.600000     never smoked       0  \n",
       "5108          Rural       Little High  25.600000  formerly smoked       0  \n",
       "5109          Urban            Normal  26.200000          Unknown       0  \n",
       "\n",
       "[5109 rows x 11 columns]"
      ]
     },
     "execution_count": 59,
     "metadata": {},
     "output_type": "execute_result"
    }
   ],
   "source": [
    "df"
   ]
  },
  {
   "cell_type": "code",
   "execution_count": 60,
   "metadata": {},
   "outputs": [
    {
     "data": {
      "text/html": [
       "<div>\n",
       "<style scoped>\n",
       "    .dataframe tbody tr th:only-of-type {\n",
       "        vertical-align: middle;\n",
       "    }\n",
       "\n",
       "    .dataframe tbody tr th {\n",
       "        vertical-align: top;\n",
       "    }\n",
       "\n",
       "    .dataframe thead th {\n",
       "        text-align: right;\n",
       "    }\n",
       "</style>\n",
       "<table border=\"1\" class=\"dataframe\">\n",
       "  <thead>\n",
       "    <tr style=\"text-align: right;\">\n",
       "      <th></th>\n",
       "      <th>gender</th>\n",
       "      <th>age</th>\n",
       "      <th>hypertension</th>\n",
       "      <th>heart_disease</th>\n",
       "      <th>ever_married</th>\n",
       "      <th>work_type</th>\n",
       "      <th>Residence_type</th>\n",
       "      <th>avg_glucose_level</th>\n",
       "      <th>bmi</th>\n",
       "      <th>smoking_status</th>\n",
       "      <th>stroke</th>\n",
       "    </tr>\n",
       "  </thead>\n",
       "  <tbody>\n",
       "    <tr>\n",
       "      <th>0</th>\n",
       "      <td>1</td>\n",
       "      <td>67.0</td>\n",
       "      <td>0</td>\n",
       "      <td>1</td>\n",
       "      <td>1</td>\n",
       "      <td>Private</td>\n",
       "      <td>1</td>\n",
       "      <td>High</td>\n",
       "      <td>36.600000</td>\n",
       "      <td>formerly smoked</td>\n",
       "      <td>1</td>\n",
       "    </tr>\n",
       "    <tr>\n",
       "      <th>1</th>\n",
       "      <td>0</td>\n",
       "      <td>61.0</td>\n",
       "      <td>0</td>\n",
       "      <td>0</td>\n",
       "      <td>1</td>\n",
       "      <td>Self-employed</td>\n",
       "      <td>0</td>\n",
       "      <td>High</td>\n",
       "      <td>28.893237</td>\n",
       "      <td>never smoked</td>\n",
       "      <td>1</td>\n",
       "    </tr>\n",
       "    <tr>\n",
       "      <th>2</th>\n",
       "      <td>1</td>\n",
       "      <td>80.0</td>\n",
       "      <td>0</td>\n",
       "      <td>1</td>\n",
       "      <td>1</td>\n",
       "      <td>Private</td>\n",
       "      <td>0</td>\n",
       "      <td>Normal</td>\n",
       "      <td>32.500000</td>\n",
       "      <td>never smoked</td>\n",
       "      <td>1</td>\n",
       "    </tr>\n",
       "    <tr>\n",
       "      <th>3</th>\n",
       "      <td>0</td>\n",
       "      <td>49.0</td>\n",
       "      <td>0</td>\n",
       "      <td>0</td>\n",
       "      <td>1</td>\n",
       "      <td>Private</td>\n",
       "      <td>1</td>\n",
       "      <td>Little High</td>\n",
       "      <td>34.400000</td>\n",
       "      <td>smokes</td>\n",
       "      <td>1</td>\n",
       "    </tr>\n",
       "    <tr>\n",
       "      <th>4</th>\n",
       "      <td>0</td>\n",
       "      <td>79.0</td>\n",
       "      <td>1</td>\n",
       "      <td>0</td>\n",
       "      <td>1</td>\n",
       "      <td>Self-employed</td>\n",
       "      <td>0</td>\n",
       "      <td>Little High</td>\n",
       "      <td>24.000000</td>\n",
       "      <td>never smoked</td>\n",
       "      <td>1</td>\n",
       "    </tr>\n",
       "    <tr>\n",
       "      <th>...</th>\n",
       "      <td>...</td>\n",
       "      <td>...</td>\n",
       "      <td>...</td>\n",
       "      <td>...</td>\n",
       "      <td>...</td>\n",
       "      <td>...</td>\n",
       "      <td>...</td>\n",
       "      <td>...</td>\n",
       "      <td>...</td>\n",
       "      <td>...</td>\n",
       "      <td>...</td>\n",
       "    </tr>\n",
       "    <tr>\n",
       "      <th>5105</th>\n",
       "      <td>0</td>\n",
       "      <td>80.0</td>\n",
       "      <td>1</td>\n",
       "      <td>0</td>\n",
       "      <td>1</td>\n",
       "      <td>Private</td>\n",
       "      <td>1</td>\n",
       "      <td>Normal</td>\n",
       "      <td>28.893237</td>\n",
       "      <td>never smoked</td>\n",
       "      <td>0</td>\n",
       "    </tr>\n",
       "    <tr>\n",
       "      <th>5106</th>\n",
       "      <td>0</td>\n",
       "      <td>81.0</td>\n",
       "      <td>0</td>\n",
       "      <td>0</td>\n",
       "      <td>1</td>\n",
       "      <td>Self-employed</td>\n",
       "      <td>1</td>\n",
       "      <td>Normal</td>\n",
       "      <td>40.000000</td>\n",
       "      <td>never smoked</td>\n",
       "      <td>0</td>\n",
       "    </tr>\n",
       "    <tr>\n",
       "      <th>5107</th>\n",
       "      <td>0</td>\n",
       "      <td>35.0</td>\n",
       "      <td>0</td>\n",
       "      <td>0</td>\n",
       "      <td>1</td>\n",
       "      <td>Self-employed</td>\n",
       "      <td>0</td>\n",
       "      <td>Normal</td>\n",
       "      <td>30.600000</td>\n",
       "      <td>never smoked</td>\n",
       "      <td>0</td>\n",
       "    </tr>\n",
       "    <tr>\n",
       "      <th>5108</th>\n",
       "      <td>1</td>\n",
       "      <td>51.0</td>\n",
       "      <td>0</td>\n",
       "      <td>0</td>\n",
       "      <td>1</td>\n",
       "      <td>Private</td>\n",
       "      <td>0</td>\n",
       "      <td>Little High</td>\n",
       "      <td>25.600000</td>\n",
       "      <td>formerly smoked</td>\n",
       "      <td>0</td>\n",
       "    </tr>\n",
       "    <tr>\n",
       "      <th>5109</th>\n",
       "      <td>0</td>\n",
       "      <td>44.0</td>\n",
       "      <td>0</td>\n",
       "      <td>0</td>\n",
       "      <td>1</td>\n",
       "      <td>Govt_job</td>\n",
       "      <td>1</td>\n",
       "      <td>Normal</td>\n",
       "      <td>26.200000</td>\n",
       "      <td>Unknown</td>\n",
       "      <td>0</td>\n",
       "    </tr>\n",
       "  </tbody>\n",
       "</table>\n",
       "<p>5109 rows × 11 columns</p>\n",
       "</div>"
      ],
      "text/plain": [
       "      gender   age  hypertension  heart_disease  ever_married      work_type  \\\n",
       "0          1  67.0             0              1             1        Private   \n",
       "1          0  61.0             0              0             1  Self-employed   \n",
       "2          1  80.0             0              1             1        Private   \n",
       "3          0  49.0             0              0             1        Private   \n",
       "4          0  79.0             1              0             1  Self-employed   \n",
       "...      ...   ...           ...            ...           ...            ...   \n",
       "5105       0  80.0             1              0             1        Private   \n",
       "5106       0  81.0             0              0             1  Self-employed   \n",
       "5107       0  35.0             0              0             1  Self-employed   \n",
       "5108       1  51.0             0              0             1        Private   \n",
       "5109       0  44.0             0              0             1       Govt_job   \n",
       "\n",
       "      Residence_type avg_glucose_level        bmi   smoking_status  stroke  \n",
       "0                  1              High  36.600000  formerly smoked       1  \n",
       "1                  0              High  28.893237     never smoked       1  \n",
       "2                  0            Normal  32.500000     never smoked       1  \n",
       "3                  1       Little High  34.400000           smokes       1  \n",
       "4                  0       Little High  24.000000     never smoked       1  \n",
       "...              ...               ...        ...              ...     ...  \n",
       "5105               1            Normal  28.893237     never smoked       0  \n",
       "5106               1            Normal  40.000000     never smoked       0  \n",
       "5107               0            Normal  30.600000     never smoked       0  \n",
       "5108               0       Little High  25.600000  formerly smoked       0  \n",
       "5109               1            Normal  26.200000          Unknown       0  \n",
       "\n",
       "[5109 rows x 11 columns]"
      ]
     },
     "execution_count": 60,
     "metadata": {},
     "output_type": "execute_result"
    }
   ],
   "source": [
    "df.replace({'gender' : {'Male' : 1, 'Female':0},\n",
    "           'ever_married':{'Yes':1, 'No':0},\n",
    "           'Residence_type':{'Urban':1, 'Rural':0}}, inplace=True)\n",
    "df"
   ]
  },
  {
   "cell_type": "code",
   "execution_count": 61,
   "metadata": {},
   "outputs": [],
   "source": [
    "df = pd.get_dummies(df)"
   ]
  },
  {
   "cell_type": "code",
   "execution_count": 62,
   "metadata": {},
   "outputs": [
    {
     "data": {
      "text/html": [
       "<div>\n",
       "<style scoped>\n",
       "    .dataframe tbody tr th:only-of-type {\n",
       "        vertical-align: middle;\n",
       "    }\n",
       "\n",
       "    .dataframe tbody tr th {\n",
       "        vertical-align: top;\n",
       "    }\n",
       "\n",
       "    .dataframe thead th {\n",
       "        text-align: right;\n",
       "    }\n",
       "</style>\n",
       "<table border=\"1\" class=\"dataframe\">\n",
       "  <thead>\n",
       "    <tr style=\"text-align: right;\">\n",
       "      <th></th>\n",
       "      <th>gender</th>\n",
       "      <th>age</th>\n",
       "      <th>hypertension</th>\n",
       "      <th>heart_disease</th>\n",
       "      <th>ever_married</th>\n",
       "      <th>Residence_type</th>\n",
       "      <th>bmi</th>\n",
       "      <th>stroke</th>\n",
       "      <th>work_type_Govt_job</th>\n",
       "      <th>work_type_Never_worked</th>\n",
       "      <th>...</th>\n",
       "      <th>work_type_Self-employed</th>\n",
       "      <th>work_type_children</th>\n",
       "      <th>avg_glucose_level_High</th>\n",
       "      <th>avg_glucose_level_Little High</th>\n",
       "      <th>avg_glucose_level_Low</th>\n",
       "      <th>avg_glucose_level_Normal</th>\n",
       "      <th>smoking_status_Unknown</th>\n",
       "      <th>smoking_status_formerly smoked</th>\n",
       "      <th>smoking_status_never smoked</th>\n",
       "      <th>smoking_status_smokes</th>\n",
       "    </tr>\n",
       "  </thead>\n",
       "  <tbody>\n",
       "    <tr>\n",
       "      <th>0</th>\n",
       "      <td>1</td>\n",
       "      <td>67.0</td>\n",
       "      <td>0</td>\n",
       "      <td>1</td>\n",
       "      <td>1</td>\n",
       "      <td>1</td>\n",
       "      <td>36.600000</td>\n",
       "      <td>1</td>\n",
       "      <td>0</td>\n",
       "      <td>0</td>\n",
       "      <td>...</td>\n",
       "      <td>0</td>\n",
       "      <td>0</td>\n",
       "      <td>1</td>\n",
       "      <td>0</td>\n",
       "      <td>0</td>\n",
       "      <td>0</td>\n",
       "      <td>0</td>\n",
       "      <td>1</td>\n",
       "      <td>0</td>\n",
       "      <td>0</td>\n",
       "    </tr>\n",
       "    <tr>\n",
       "      <th>1</th>\n",
       "      <td>0</td>\n",
       "      <td>61.0</td>\n",
       "      <td>0</td>\n",
       "      <td>0</td>\n",
       "      <td>1</td>\n",
       "      <td>0</td>\n",
       "      <td>28.893237</td>\n",
       "      <td>1</td>\n",
       "      <td>0</td>\n",
       "      <td>0</td>\n",
       "      <td>...</td>\n",
       "      <td>1</td>\n",
       "      <td>0</td>\n",
       "      <td>1</td>\n",
       "      <td>0</td>\n",
       "      <td>0</td>\n",
       "      <td>0</td>\n",
       "      <td>0</td>\n",
       "      <td>0</td>\n",
       "      <td>1</td>\n",
       "      <td>0</td>\n",
       "    </tr>\n",
       "    <tr>\n",
       "      <th>2</th>\n",
       "      <td>1</td>\n",
       "      <td>80.0</td>\n",
       "      <td>0</td>\n",
       "      <td>1</td>\n",
       "      <td>1</td>\n",
       "      <td>0</td>\n",
       "      <td>32.500000</td>\n",
       "      <td>1</td>\n",
       "      <td>0</td>\n",
       "      <td>0</td>\n",
       "      <td>...</td>\n",
       "      <td>0</td>\n",
       "      <td>0</td>\n",
       "      <td>0</td>\n",
       "      <td>0</td>\n",
       "      <td>0</td>\n",
       "      <td>1</td>\n",
       "      <td>0</td>\n",
       "      <td>0</td>\n",
       "      <td>1</td>\n",
       "      <td>0</td>\n",
       "    </tr>\n",
       "    <tr>\n",
       "      <th>3</th>\n",
       "      <td>0</td>\n",
       "      <td>49.0</td>\n",
       "      <td>0</td>\n",
       "      <td>0</td>\n",
       "      <td>1</td>\n",
       "      <td>1</td>\n",
       "      <td>34.400000</td>\n",
       "      <td>1</td>\n",
       "      <td>0</td>\n",
       "      <td>0</td>\n",
       "      <td>...</td>\n",
       "      <td>0</td>\n",
       "      <td>0</td>\n",
       "      <td>0</td>\n",
       "      <td>1</td>\n",
       "      <td>0</td>\n",
       "      <td>0</td>\n",
       "      <td>0</td>\n",
       "      <td>0</td>\n",
       "      <td>0</td>\n",
       "      <td>1</td>\n",
       "    </tr>\n",
       "    <tr>\n",
       "      <th>4</th>\n",
       "      <td>0</td>\n",
       "      <td>79.0</td>\n",
       "      <td>1</td>\n",
       "      <td>0</td>\n",
       "      <td>1</td>\n",
       "      <td>0</td>\n",
       "      <td>24.000000</td>\n",
       "      <td>1</td>\n",
       "      <td>0</td>\n",
       "      <td>0</td>\n",
       "      <td>...</td>\n",
       "      <td>1</td>\n",
       "      <td>0</td>\n",
       "      <td>0</td>\n",
       "      <td>1</td>\n",
       "      <td>0</td>\n",
       "      <td>0</td>\n",
       "      <td>0</td>\n",
       "      <td>0</td>\n",
       "      <td>1</td>\n",
       "      <td>0</td>\n",
       "    </tr>\n",
       "    <tr>\n",
       "      <th>...</th>\n",
       "      <td>...</td>\n",
       "      <td>...</td>\n",
       "      <td>...</td>\n",
       "      <td>...</td>\n",
       "      <td>...</td>\n",
       "      <td>...</td>\n",
       "      <td>...</td>\n",
       "      <td>...</td>\n",
       "      <td>...</td>\n",
       "      <td>...</td>\n",
       "      <td>...</td>\n",
       "      <td>...</td>\n",
       "      <td>...</td>\n",
       "      <td>...</td>\n",
       "      <td>...</td>\n",
       "      <td>...</td>\n",
       "      <td>...</td>\n",
       "      <td>...</td>\n",
       "      <td>...</td>\n",
       "      <td>...</td>\n",
       "      <td>...</td>\n",
       "    </tr>\n",
       "    <tr>\n",
       "      <th>5105</th>\n",
       "      <td>0</td>\n",
       "      <td>80.0</td>\n",
       "      <td>1</td>\n",
       "      <td>0</td>\n",
       "      <td>1</td>\n",
       "      <td>1</td>\n",
       "      <td>28.893237</td>\n",
       "      <td>0</td>\n",
       "      <td>0</td>\n",
       "      <td>0</td>\n",
       "      <td>...</td>\n",
       "      <td>0</td>\n",
       "      <td>0</td>\n",
       "      <td>0</td>\n",
       "      <td>0</td>\n",
       "      <td>0</td>\n",
       "      <td>1</td>\n",
       "      <td>0</td>\n",
       "      <td>0</td>\n",
       "      <td>1</td>\n",
       "      <td>0</td>\n",
       "    </tr>\n",
       "    <tr>\n",
       "      <th>5106</th>\n",
       "      <td>0</td>\n",
       "      <td>81.0</td>\n",
       "      <td>0</td>\n",
       "      <td>0</td>\n",
       "      <td>1</td>\n",
       "      <td>1</td>\n",
       "      <td>40.000000</td>\n",
       "      <td>0</td>\n",
       "      <td>0</td>\n",
       "      <td>0</td>\n",
       "      <td>...</td>\n",
       "      <td>1</td>\n",
       "      <td>0</td>\n",
       "      <td>0</td>\n",
       "      <td>0</td>\n",
       "      <td>0</td>\n",
       "      <td>1</td>\n",
       "      <td>0</td>\n",
       "      <td>0</td>\n",
       "      <td>1</td>\n",
       "      <td>0</td>\n",
       "    </tr>\n",
       "    <tr>\n",
       "      <th>5107</th>\n",
       "      <td>0</td>\n",
       "      <td>35.0</td>\n",
       "      <td>0</td>\n",
       "      <td>0</td>\n",
       "      <td>1</td>\n",
       "      <td>0</td>\n",
       "      <td>30.600000</td>\n",
       "      <td>0</td>\n",
       "      <td>0</td>\n",
       "      <td>0</td>\n",
       "      <td>...</td>\n",
       "      <td>1</td>\n",
       "      <td>0</td>\n",
       "      <td>0</td>\n",
       "      <td>0</td>\n",
       "      <td>0</td>\n",
       "      <td>1</td>\n",
       "      <td>0</td>\n",
       "      <td>0</td>\n",
       "      <td>1</td>\n",
       "      <td>0</td>\n",
       "    </tr>\n",
       "    <tr>\n",
       "      <th>5108</th>\n",
       "      <td>1</td>\n",
       "      <td>51.0</td>\n",
       "      <td>0</td>\n",
       "      <td>0</td>\n",
       "      <td>1</td>\n",
       "      <td>0</td>\n",
       "      <td>25.600000</td>\n",
       "      <td>0</td>\n",
       "      <td>0</td>\n",
       "      <td>0</td>\n",
       "      <td>...</td>\n",
       "      <td>0</td>\n",
       "      <td>0</td>\n",
       "      <td>0</td>\n",
       "      <td>1</td>\n",
       "      <td>0</td>\n",
       "      <td>0</td>\n",
       "      <td>0</td>\n",
       "      <td>1</td>\n",
       "      <td>0</td>\n",
       "      <td>0</td>\n",
       "    </tr>\n",
       "    <tr>\n",
       "      <th>5109</th>\n",
       "      <td>0</td>\n",
       "      <td>44.0</td>\n",
       "      <td>0</td>\n",
       "      <td>0</td>\n",
       "      <td>1</td>\n",
       "      <td>1</td>\n",
       "      <td>26.200000</td>\n",
       "      <td>0</td>\n",
       "      <td>1</td>\n",
       "      <td>0</td>\n",
       "      <td>...</td>\n",
       "      <td>0</td>\n",
       "      <td>0</td>\n",
       "      <td>0</td>\n",
       "      <td>0</td>\n",
       "      <td>0</td>\n",
       "      <td>1</td>\n",
       "      <td>1</td>\n",
       "      <td>0</td>\n",
       "      <td>0</td>\n",
       "      <td>0</td>\n",
       "    </tr>\n",
       "  </tbody>\n",
       "</table>\n",
       "<p>5109 rows × 21 columns</p>\n",
       "</div>"
      ],
      "text/plain": [
       "      gender   age  hypertension  heart_disease  ever_married  Residence_type  \\\n",
       "0          1  67.0             0              1             1               1   \n",
       "1          0  61.0             0              0             1               0   \n",
       "2          1  80.0             0              1             1               0   \n",
       "3          0  49.0             0              0             1               1   \n",
       "4          0  79.0             1              0             1               0   \n",
       "...      ...   ...           ...            ...           ...             ...   \n",
       "5105       0  80.0             1              0             1               1   \n",
       "5106       0  81.0             0              0             1               1   \n",
       "5107       0  35.0             0              0             1               0   \n",
       "5108       1  51.0             0              0             1               0   \n",
       "5109       0  44.0             0              0             1               1   \n",
       "\n",
       "            bmi  stroke  work_type_Govt_job  work_type_Never_worked  ...  \\\n",
       "0     36.600000       1                   0                       0  ...   \n",
       "1     28.893237       1                   0                       0  ...   \n",
       "2     32.500000       1                   0                       0  ...   \n",
       "3     34.400000       1                   0                       0  ...   \n",
       "4     24.000000       1                   0                       0  ...   \n",
       "...         ...     ...                 ...                     ...  ...   \n",
       "5105  28.893237       0                   0                       0  ...   \n",
       "5106  40.000000       0                   0                       0  ...   \n",
       "5107  30.600000       0                   0                       0  ...   \n",
       "5108  25.600000       0                   0                       0  ...   \n",
       "5109  26.200000       0                   1                       0  ...   \n",
       "\n",
       "      work_type_Self-employed  work_type_children  avg_glucose_level_High  \\\n",
       "0                           0                   0                       1   \n",
       "1                           1                   0                       1   \n",
       "2                           0                   0                       0   \n",
       "3                           0                   0                       0   \n",
       "4                           1                   0                       0   \n",
       "...                       ...                 ...                     ...   \n",
       "5105                        0                   0                       0   \n",
       "5106                        1                   0                       0   \n",
       "5107                        1                   0                       0   \n",
       "5108                        0                   0                       0   \n",
       "5109                        0                   0                       0   \n",
       "\n",
       "      avg_glucose_level_Little High  avg_glucose_level_Low  \\\n",
       "0                                 0                      0   \n",
       "1                                 0                      0   \n",
       "2                                 0                      0   \n",
       "3                                 1                      0   \n",
       "4                                 1                      0   \n",
       "...                             ...                    ...   \n",
       "5105                              0                      0   \n",
       "5106                              0                      0   \n",
       "5107                              0                      0   \n",
       "5108                              1                      0   \n",
       "5109                              0                      0   \n",
       "\n",
       "      avg_glucose_level_Normal  smoking_status_Unknown  \\\n",
       "0                            0                       0   \n",
       "1                            0                       0   \n",
       "2                            1                       0   \n",
       "3                            0                       0   \n",
       "4                            0                       0   \n",
       "...                        ...                     ...   \n",
       "5105                         1                       0   \n",
       "5106                         1                       0   \n",
       "5107                         1                       0   \n",
       "5108                         0                       0   \n",
       "5109                         1                       1   \n",
       "\n",
       "      smoking_status_formerly smoked  smoking_status_never smoked  \\\n",
       "0                                  1                            0   \n",
       "1                                  0                            1   \n",
       "2                                  0                            1   \n",
       "3                                  0                            0   \n",
       "4                                  0                            1   \n",
       "...                              ...                          ...   \n",
       "5105                               0                            1   \n",
       "5106                               0                            1   \n",
       "5107                               0                            1   \n",
       "5108                               1                            0   \n",
       "5109                               0                            0   \n",
       "\n",
       "      smoking_status_smokes  \n",
       "0                         0  \n",
       "1                         0  \n",
       "2                         0  \n",
       "3                         1  \n",
       "4                         0  \n",
       "...                     ...  \n",
       "5105                      0  \n",
       "5106                      0  \n",
       "5107                      0  \n",
       "5108                      0  \n",
       "5109                      0  \n",
       "\n",
       "[5109 rows x 21 columns]"
      ]
     },
     "execution_count": 62,
     "metadata": {},
     "output_type": "execute_result"
    }
   ],
   "source": [
    "df"
   ]
  },
  {
   "cell_type": "code",
   "execution_count": 63,
   "metadata": {},
   "outputs": [],
   "source": [
    "feature = [x for x in df.columns if x != 'stroke']\n",
    "target = ['stroke']\n",
    "X = df[feature]\n",
    "Y = df[target].values\n"
   ]
  },
  {
   "cell_type": "markdown",
   "metadata": {
    "id": "pHgpHQs_7dOp"
   },
   "source": [
    "Note:\n",
    "\n",
    "working type 0 - 4 \n",
    "\n",
    "average glucose 5 - 8 \n",
    "\n",
    "smoking status 9 - 12 \n",
    "\n",
    "gender 13 \n",
    "\n",
    "age 14\n",
    "\n",
    "hypertension 15\n",
    "\n",
    "heart disease 16\n",
    "\n",
    "ever married 17\n",
    "\n",
    "recidence 18\n",
    "\n",
    "bmi 19"
   ]
  },
  {
   "cell_type": "markdown",
   "metadata": {
    "id": "z1-SLcPn84VJ"
   },
   "source": [
    "## Splitting the dataset into the Training set and Test set"
   ]
  },
  {
   "cell_type": "code",
   "execution_count": 64,
   "metadata": {
    "id": "h4d6qiuk8Hq2"
   },
   "outputs": [],
   "source": [
    "from sklearn.model_selection import train_test_split\n",
    "X_train, X_val, Y_train, Y_val = train_test_split(X, Y, test_size = 0.3, random_state = 1)"
   ]
  },
  {
   "cell_type": "code",
   "execution_count": 65,
   "metadata": {},
   "outputs": [],
   "source": [
    "X_test, X_val, Y_test, Y_val = train_test_split(X_val, Y_val, test_size = .34)"
   ]
  },
  {
   "cell_type": "code",
   "execution_count": 66,
   "metadata": {
    "colab": {
     "base_uri": "https://localhost:8080/"
    },
    "id": "X9nzjs9P9GUu",
    "outputId": "cfee0170-b061-432f-be68-394e1d7586ed"
   },
   "outputs": [
    {
     "data": {
      "text/plain": [
       "(3576, 20)"
      ]
     },
     "execution_count": 66,
     "metadata": {},
     "output_type": "execute_result"
    }
   ],
   "source": [
    "X_train.shape"
   ]
  },
  {
   "cell_type": "code",
   "execution_count": 67,
   "metadata": {
    "colab": {
     "base_uri": "https://localhost:8080/"
    },
    "id": "UxnKA4OF9NQY",
    "outputId": "17941b45-a39a-425f-fe98-9455c44382a1"
   },
   "outputs": [
    {
     "data": {
      "text/plain": [
       "(522, 20)"
      ]
     },
     "execution_count": 67,
     "metadata": {},
     "output_type": "execute_result"
    }
   ],
   "source": [
    "X_val.shape"
   ]
  },
  {
   "cell_type": "code",
   "execution_count": 68,
   "metadata": {
    "colab": {
     "base_uri": "https://localhost:8080/"
    },
    "id": "kQn3umNZ9VQ4",
    "outputId": "37021938-7d85-4e5f-b528-a5a656214c09"
   },
   "outputs": [],
   "source": [
    "Y_train, Y_test, Y_val = Y_train.reshape(Y_train.shape[0]), Y_test.reshape(Y_test.shape[0]), Y_val.reshape(Y_val.shape[0])"
   ]
  },
  {
   "cell_type": "code",
   "execution_count": 69,
   "metadata": {
    "colab": {
     "base_uri": "https://localhost:8080/"
    },
    "id": "A9FDR2NI9Y-g",
    "outputId": "ca68632c-7c57-4ba2-ac7c-22634526a46f"
   },
   "outputs": [
    {
     "data": {
      "text/plain": [
       "(1011,)"
      ]
     },
     "execution_count": 69,
     "metadata": {},
     "output_type": "execute_result"
    }
   ],
   "source": [
    "Y_test.shape"
   ]
  },
  {
   "cell_type": "markdown",
   "metadata": {
    "id": "7lIojb439t6I"
   },
   "source": [
    "## Feature Scalling"
   ]
  },
  {
   "cell_type": "code",
   "execution_count": 54,
   "metadata": {
    "id": "QyQzG7m19lOg"
   },
   "outputs": [],
   "source": [
    "from sklearn.preprocessing import StandardScaler\n",
    "sc = StandardScaler()\n",
    "X_train = sc.fit_transform(X_train)\n",
    "X_test = sc.transform(X_test)\n",
    "X_val = sc.transform(X_val)"
   ]
  },
  {
   "cell_type": "markdown",
   "metadata": {
    "id": "0v5iRwyV-hiY"
   },
   "source": [
    "# Model"
   ]
  },
  {
   "cell_type": "markdown",
   "metadata": {},
   "source": [
    "## Naive Bayes"
   ]
  },
  {
   "cell_type": "code",
   "execution_count": 70,
   "metadata": {},
   "outputs": [
    {
     "data": {
      "text/plain": [
       "CategoricalNB()"
      ]
     },
     "execution_count": 70,
     "metadata": {},
     "output_type": "execute_result"
    }
   ],
   "source": [
    "from sklearn.naive_bayes import CategoricalNB\n",
    "nb = CategoricalNB()\n",
    "nb.fit(X_train, Y_train)"
   ]
  },
  {
   "cell_type": "markdown",
   "metadata": {},
   "source": [
    "### Predict and Scoring "
   ]
  },
  {
   "cell_type": "code",
   "execution_count": 146,
   "metadata": {
    "scrolled": true
   },
   "outputs": [
    {
     "name": "stdout",
     "output_type": "stream",
     "text": [
      "Wall time: 8 ms\n"
     ]
    }
   ],
   "source": [
    "%%time\n",
    "Y_pred = nb.predict(X_test)"
   ]
  },
  {
   "cell_type": "code",
   "execution_count": 148,
   "metadata": {},
   "outputs": [
    {
     "name": "stdout",
     "output_type": "stream",
     "text": [
      "AUC Score        : 60.514147688060724\n",
      "Recall Score     : 24.444444444444443\n",
      "Precission Score : 25.0\n",
      "Accuracy Score   : 93.3728981206726\n"
     ]
    }
   ],
   "source": [
    "from sklearn.metrics import roc_auc_score, recall_score, precision_score, accuracy_score\n",
    "def seeAllMetrics(y_true, y_pred) :\n",
    "    auc = roc_auc_score(y_true, y_pred) * 100\n",
    "    recall = recall_score(y_true, y_pred) * 100\n",
    "    precc = precision_score(y_true, y_pred) * 100\n",
    "    acc = accuracy_score(y_true, y_pred) * 100\n",
    "    print ('AUC Score        : {}\\nRecall Score     : {}\\nPrecission Score : {}\\nAccuracy Score   : {}'.format(auc, recall, precc, acc))\n",
    "\n",
    "seeAllMetrics(Y_test, Y_pred)"
   ]
  },
  {
   "cell_type": "markdown",
   "metadata": {},
   "source": [
    "## Decission Tree"
   ]
  },
  {
   "cell_type": "code",
   "execution_count": 149,
   "metadata": {},
   "outputs": [
    {
     "name": "stdout",
     "output_type": "stream",
     "text": [
      "DTC GridSearch score: 0.9334449349533148\n",
      "DTC GridSearch params: \n",
      "{'criterion': 'gini', 'min_samples_split': 5, 'random_state': 3, 'splitter': 'random'}\n"
     ]
    }
   ],
   "source": [
    "from sklearn.tree import DecisionTreeClassifier\n",
    "from sklearn.model_selection import GridSearchCV\n",
    "dtc = DecisionTreeClassifier()\n",
    "params = {'criterion':['gini','entropy'],\n",
    "          'splitter':['best','random'],\n",
    "          'min_samples_split':[2,3,4,5],\n",
    "          'random_state': [x for x in range(5)]}\n",
    "\n",
    "gsc = GridSearchCV(dtc, params)\n",
    "gsc.fit(X_train, Y_train)\n",
    "\n",
    "print(\"DTC GridSearch score: \"+str(gsc.best_score_))\n",
    "print(\"DTC GridSearch params: \")\n",
    "print(gsc.best_params_)"
   ]
  },
  {
   "cell_type": "code",
   "execution_count": 150,
   "metadata": {},
   "outputs": [
    {
     "data": {
      "text/plain": [
       "DecisionTreeClassifier(min_samples_split=5, random_state=3, splitter='random')"
      ]
     },
     "execution_count": 150,
     "metadata": {},
     "output_type": "execute_result"
    }
   ],
   "source": [
    "dtc = DecisionTreeClassifier(splitter='random', min_samples_split=5, random_state=3)\n",
    "dtc.fit(X_train, Y_train)"
   ]
  },
  {
   "cell_type": "markdown",
   "metadata": {},
   "source": [
    "### Predict and Scoring "
   ]
  },
  {
   "cell_type": "code",
   "execution_count": 153,
   "metadata": {
    "scrolled": true
   },
   "outputs": [
    {
     "name": "stdout",
     "output_type": "stream",
     "text": [
      "Wall time: 6.01 ms\n"
     ]
    }
   ],
   "source": [
    "%%time\n",
    "Y_pred = dtc.predict(X_test)"
   ]
  },
  {
   "cell_type": "code",
   "execution_count": 152,
   "metadata": {
    "scrolled": true
   },
   "outputs": [
    {
     "name": "stdout",
     "output_type": "stream",
     "text": [
      "AUC Score        : 50.72118702553485\n",
      "Recall Score     : 4.444444444444445\n",
      "Precission Score : 6.451612903225806\n",
      "Accuracy Score   : 92.87833827893175\n"
     ]
    }
   ],
   "source": [
    "seeAllMetrics(Y_test, Y_pred)"
   ]
  },
  {
   "cell_type": "markdown",
   "metadata": {},
   "source": [
    "## SVC"
   ]
  },
  {
   "cell_type": "code",
   "execution_count": 157,
   "metadata": {},
   "outputs": [
    {
     "name": "stdout",
     "output_type": "stream",
     "text": [
      "DTC GridSearch score: 0.9477071531820135\n",
      "DTC GridSearch params: \n",
      "{'C': 1000, 'gamma': 0.5, 'random_state': 0}\n"
     ]
    }
   ],
   "source": [
    "from sklearn.svm import SVC\n",
    "svc = SVC()\n",
    "params = {'C'     : [1000, 10000, 100000],\n",
    "          'gamma' : [0.5, 0.05,0.005],\n",
    "          'random_state' : [0,1,2,3,4,5]}\n",
    "\n",
    "gsc = GridSearchCV(svc, params)\n",
    "gsc.fit(X_train, Y_train)\n",
    "\n",
    "print(\"DTC GridSearch score: \"+str(gsc.best_score_))\n",
    "print(\"DTC GridSearch params: \")\n",
    "print(gsc.best_params_)"
   ]
  },
  {
   "cell_type": "code",
   "execution_count": 160,
   "metadata": {},
   "outputs": [
    {
     "data": {
      "text/plain": [
       "SVC(C=1000, gamma=0.5, random_state=0)"
      ]
     },
     "execution_count": 160,
     "metadata": {},
     "output_type": "execute_result"
    }
   ],
   "source": [
    "svc = SVC(C=1000, gamma = .5, random_state = 0)\n",
    "svc.fit(X_train, Y_train)"
   ]
  },
  {
   "cell_type": "markdown",
   "metadata": {},
   "source": [
    "### Predict and Scoring "
   ]
  },
  {
   "cell_type": "code",
   "execution_count": 161,
   "metadata": {},
   "outputs": [
    {
     "name": "stdout",
     "output_type": "stream",
     "text": [
      "Wall time: 569 ms\n"
     ]
    }
   ],
   "source": [
    "%%time\n",
    "Y_pred = svc.predict(X_test)"
   ]
  },
  {
   "cell_type": "code",
   "execution_count": 162,
   "metadata": {
    "scrolled": false
   },
   "outputs": [
    {
     "name": "stdout",
     "output_type": "stream",
     "text": [
      "AUC Score        : 50.69703243616287\n",
      "Recall Score     : 2.2222222222222223\n",
      "Precission Score : 11.11111111111111\n",
      "Accuracy Score   : 94.85657764589516\n"
     ]
    }
   ],
   "source": [
    "seeAllMetrics(Y_test, Y_pred)"
   ]
  },
  {
   "cell_type": "markdown",
   "metadata": {},
   "source": [
    "## Random Forest"
   ]
  },
  {
   "cell_type": "code",
   "execution_count": 169,
   "metadata": {},
   "outputs": [
    {
     "name": "stdout",
     "output_type": "stream",
     "text": [
      "DTC GridSearch score: 0.9524608352541314\n",
      "DTC GridSearch params: \n",
      "{'max_features': 'auto', 'n_estimators': 100, 'random_state': 1}\n"
     ]
    }
   ],
   "source": [
    "from sklearn.ensemble import RandomForestClassifier\n",
    "rfc = RandomForestClassifier()\n",
    "params = {'n_estimators'     : [100, 1000],\n",
    "          'random_state' : [0,1,2,3,4,5],\n",
    "          'max_features' : ['auto','sqrt','log2']}\n",
    "\n",
    "gsc = GridSearchCV(rfc, params)\n",
    "gsc.fit(X_train, Y_train)\n",
    "\n",
    "print(\"DTC GridSearch score: \"+str(gsc.best_score_))\n",
    "print(\"DTC GridSearch params: \")\n",
    "print(gsc.best_params_)"
   ]
  },
  {
   "cell_type": "code",
   "execution_count": 170,
   "metadata": {},
   "outputs": [
    {
     "data": {
      "text/plain": [
       "RandomForestClassifier(random_state=1)"
      ]
     },
     "execution_count": 170,
     "metadata": {},
     "output_type": "execute_result"
    }
   ],
   "source": [
    "rfc = RandomForestClassifier(random_state=1)\n",
    "rfc.fit(X_train, Y_train)"
   ]
  },
  {
   "cell_type": "markdown",
   "metadata": {},
   "source": [
    "### Predict and Scoring "
   ]
  },
  {
   "cell_type": "code",
   "execution_count": 171,
   "metadata": {},
   "outputs": [
    {
     "name": "stdout",
     "output_type": "stream",
     "text": [
      "Wall time: 32.3 ms\n"
     ]
    }
   ],
   "source": [
    "%%time\n",
    "Y_pred = rfc.predict(X_test)"
   ]
  },
  {
   "cell_type": "code",
   "execution_count": 172,
   "metadata": {
    "scrolled": false
   },
   "outputs": [
    {
     "name": "stdout",
     "output_type": "stream",
     "text": [
      "AUC Score        : 49.84472049689441\n",
      "Recall Score     : 0.0\n",
      "Precission Score : 0.0\n",
      "Accuracy Score   : 95.25222551928783\n"
     ]
    }
   ],
   "source": [
    "seeAllMetrics(Y_test, Y_pred)"
   ]
  },
  {
   "cell_type": "markdown",
   "metadata": {},
   "source": [
    "## DNN"
   ]
  },
  {
   "cell_type": "code",
   "execution_count": 173,
   "metadata": {
    "id": "jvxDq36vAF_H"
   },
   "outputs": [],
   "source": [
    "class myCallback(tf.keras.callbacks.Callback):\n",
    "  def on_epoch_end(self, epoch, logs={}):\n",
    "    if(logs.get('acc') is not None and logs.get('acc') >= 0.8):\n",
    "      print(\"\\nReached 80% accuracy so cancelling training!\")\n",
    "      self.model.stop_training = True"
   ]
  },
  {
   "cell_type": "code",
   "execution_count": 174,
   "metadata": {
    "id": "J69mgEW6-jpR"
   },
   "outputs": [],
   "source": [
    "callbacks = myCallback()\n",
    "\n",
    "model = tf.keras.models.Sequential([\n",
    "    tf.keras.layers.Dense(units=16, activation='relu'),\n",
    "    tf.keras.layers.Dense(units=32, activation='relu'),\n",
    "    tf.keras.layers.Dense(units=1, activation='sigmoid')\n",
    "                                    \n",
    "])"
   ]
  },
  {
   "cell_type": "code",
   "execution_count": 175,
   "metadata": {
    "id": "YxRUo7a7_SLG"
   },
   "outputs": [],
   "source": [
    "model.compile(optimizer = 'Adam', loss = 'binary_crossentropy', metrics = ['acc'])"
   ]
  },
  {
   "cell_type": "code",
   "execution_count": 176,
   "metadata": {
    "colab": {
     "base_uri": "https://localhost:8080/"
    },
    "id": "Hu73BqNh_aMv",
    "outputId": "80d34c00-26bb-4fbf-d354-ffda652fe24c"
   },
   "outputs": [
    {
     "name": "stdout",
     "output_type": "stream",
     "text": [
      "Epoch 1/100\n",
      "112/112 [==============================] - 4s 6ms/step - loss: 0.3120 - acc: 0.9027 - val_loss: 0.2402 - val_acc: 0.9272\n",
      "Epoch 2/100\n",
      "112/112 [==============================] - 0s 2ms/step - loss: 0.1807 - acc: 0.9536 - val_loss: 0.2334 - val_acc: 0.9272\n",
      "Epoch 3/100\n",
      "112/112 [==============================] - 0s 2ms/step - loss: 0.1801 - acc: 0.9536 - val_loss: 0.2301 - val_acc: 0.9272\n",
      "Epoch 4/100\n",
      "112/112 [==============================] - 0s 2ms/step - loss: 0.1807 - acc: 0.9536 - val_loss: 0.2345 - val_acc: 0.9272\n",
      "Epoch 5/100\n",
      "112/112 [==============================] - 0s 2ms/step - loss: 0.1766 - acc: 0.9536 - val_loss: 0.2448 - val_acc: 0.9272\n",
      "Epoch 6/100\n",
      "112/112 [==============================] - 0s 2ms/step - loss: 0.1769 - acc: 0.9536 - val_loss: 0.2355 - val_acc: 0.9272\n",
      "Epoch 7/100\n",
      "112/112 [==============================] - 0s 2ms/step - loss: 0.1747 - acc: 0.9536 - val_loss: 0.2294 - val_acc: 0.9272\n",
      "Epoch 8/100\n",
      "112/112 [==============================] - 0s 2ms/step - loss: 0.1723 - acc: 0.9536 - val_loss: 0.2288 - val_acc: 0.9272\n",
      "Epoch 9/100\n",
      "112/112 [==============================] - 0s 2ms/step - loss: 0.1734 - acc: 0.9536 - val_loss: 0.2291 - val_acc: 0.9272\n",
      "Epoch 10/100\n",
      "112/112 [==============================] - 0s 2ms/step - loss: 0.1742 - acc: 0.9536 - val_loss: 0.2213 - val_acc: 0.9272\n",
      "Epoch 11/100\n",
      "112/112 [==============================] - 0s 2ms/step - loss: 0.1700 - acc: 0.9536 - val_loss: 0.2633 - val_acc: 0.9272\n",
      "Epoch 12/100\n",
      "112/112 [==============================] - 0s 2ms/step - loss: 0.1725 - acc: 0.9536 - val_loss: 0.2348 - val_acc: 0.9272\n",
      "Epoch 13/100\n",
      "112/112 [==============================] - 0s 2ms/step - loss: 0.1700 - acc: 0.9536 - val_loss: 0.2213 - val_acc: 0.9272\n",
      "Epoch 14/100\n",
      "112/112 [==============================] - 0s 2ms/step - loss: 0.1680 - acc: 0.9536 - val_loss: 0.2217 - val_acc: 0.9272\n",
      "Epoch 15/100\n",
      "112/112 [==============================] - 0s 2ms/step - loss: 0.1692 - acc: 0.9536 - val_loss: 0.2347 - val_acc: 0.9272\n",
      "Epoch 16/100\n",
      "112/112 [==============================] - 0s 2ms/step - loss: 0.1654 - acc: 0.9536 - val_loss: 0.2189 - val_acc: 0.9272\n",
      "Epoch 17/100\n",
      "112/112 [==============================] - 0s 2ms/step - loss: 0.1674 - acc: 0.9536 - val_loss: 0.2112 - val_acc: 0.9272\n",
      "Epoch 18/100\n",
      "112/112 [==============================] - 0s 2ms/step - loss: 0.1661 - acc: 0.9536 - val_loss: 0.2193 - val_acc: 0.9272\n",
      "Epoch 19/100\n",
      "112/112 [==============================] - 0s 2ms/step - loss: 0.1626 - acc: 0.9536 - val_loss: 0.2152 - val_acc: 0.9272\n",
      "Epoch 20/100\n",
      "112/112 [==============================] - 0s 2ms/step - loss: 0.1645 - acc: 0.9536 - val_loss: 0.2184 - val_acc: 0.9272\n",
      "Epoch 21/100\n",
      "112/112 [==============================] - 0s 2ms/step - loss: 0.1623 - acc: 0.9536 - val_loss: 0.2088 - val_acc: 0.9272\n",
      "Epoch 22/100\n",
      "112/112 [==============================] - 0s 2ms/step - loss: 0.1648 - acc: 0.9533 - val_loss: 0.2222 - val_acc: 0.9272\n",
      "Epoch 23/100\n",
      "112/112 [==============================] - 0s 2ms/step - loss: 0.1616 - acc: 0.9536 - val_loss: 0.2121 - val_acc: 0.9234\n",
      "Epoch 24/100\n",
      "112/112 [==============================] - 0s 2ms/step - loss: 0.1609 - acc: 0.9536 - val_loss: 0.2231 - val_acc: 0.9272\n",
      "Epoch 25/100\n",
      "112/112 [==============================] - 0s 2ms/step - loss: 0.1590 - acc: 0.9536 - val_loss: 0.2143 - val_acc: 0.9272\n",
      "Epoch 26/100\n",
      "112/112 [==============================] - 0s 2ms/step - loss: 0.1667 - acc: 0.9536 - val_loss: 0.2151 - val_acc: 0.9272\n",
      "Epoch 27/100\n",
      "112/112 [==============================] - 0s 2ms/step - loss: 0.1639 - acc: 0.9527 - val_loss: 0.2090 - val_acc: 0.9272\n",
      "Epoch 28/100\n",
      "112/112 [==============================] - 0s 2ms/step - loss: 0.1585 - acc: 0.9530 - val_loss: 0.2124 - val_acc: 0.9272\n",
      "Epoch 29/100\n",
      "112/112 [==============================] - 0s 2ms/step - loss: 0.1593 - acc: 0.9533 - val_loss: 0.2175 - val_acc: 0.9157\n",
      "Epoch 30/100\n",
      "112/112 [==============================] - 0s 2ms/step - loss: 0.1624 - acc: 0.9530 - val_loss: 0.2201 - val_acc: 0.9272\n",
      "Epoch 31/100\n",
      "112/112 [==============================] - 0s 2ms/step - loss: 0.1596 - acc: 0.9530 - val_loss: 0.2198 - val_acc: 0.9272\n",
      "Epoch 32/100\n",
      "112/112 [==============================] - 0s 2ms/step - loss: 0.1594 - acc: 0.9536 - val_loss: 0.2119 - val_acc: 0.9272\n",
      "Epoch 33/100\n",
      "112/112 [==============================] - 0s 2ms/step - loss: 0.1580 - acc: 0.9533 - val_loss: 0.2122 - val_acc: 0.9272\n",
      "Epoch 34/100\n",
      "112/112 [==============================] - 0s 2ms/step - loss: 0.1600 - acc: 0.9536 - val_loss: 0.2267 - val_acc: 0.9272\n",
      "Epoch 35/100\n",
      "112/112 [==============================] - 0s 2ms/step - loss: 0.1586 - acc: 0.9536 - val_loss: 0.2061 - val_acc: 0.9272\n",
      "Epoch 36/100\n",
      "112/112 [==============================] - 0s 2ms/step - loss: 0.1559 - acc: 0.9536 - val_loss: 0.2103 - val_acc: 0.9272\n",
      "Epoch 37/100\n",
      "112/112 [==============================] - 0s 2ms/step - loss: 0.1579 - acc: 0.9533 - val_loss: 0.2072 - val_acc: 0.9272\n",
      "Epoch 38/100\n",
      "112/112 [==============================] - 0s 2ms/step - loss: 0.1588 - acc: 0.9530 - val_loss: 0.2126 - val_acc: 0.9272\n",
      "Epoch 39/100\n",
      "112/112 [==============================] - 0s 2ms/step - loss: 0.1576 - acc: 0.9533 - val_loss: 0.2060 - val_acc: 0.9272\n",
      "Epoch 40/100\n",
      "112/112 [==============================] - 0s 2ms/step - loss: 0.1561 - acc: 0.9530 - val_loss: 0.2355 - val_acc: 0.9272\n",
      "Epoch 41/100\n",
      "112/112 [==============================] - 0s 2ms/step - loss: 0.1575 - acc: 0.9530 - val_loss: 0.2159 - val_acc: 0.9272\n",
      "Epoch 42/100\n",
      "112/112 [==============================] - 0s 2ms/step - loss: 0.1581 - acc: 0.9533 - val_loss: 0.2119 - val_acc: 0.9272\n",
      "Epoch 43/100\n",
      "112/112 [==============================] - 0s 2ms/step - loss: 0.1563 - acc: 0.9533 - val_loss: 0.2191 - val_acc: 0.9272\n",
      "Epoch 44/100\n",
      "112/112 [==============================] - 0s 2ms/step - loss: 0.1555 - acc: 0.9536 - val_loss: 0.2239 - val_acc: 0.9272\n",
      "Epoch 45/100\n",
      "112/112 [==============================] - 0s 2ms/step - loss: 0.1560 - acc: 0.9539 - val_loss: 0.2177 - val_acc: 0.9272\n",
      "Epoch 46/100\n",
      "112/112 [==============================] - 0s 2ms/step - loss: 0.1548 - acc: 0.9539 - val_loss: 0.2089 - val_acc: 0.9272\n",
      "Epoch 47/100\n",
      "112/112 [==============================] - 0s 2ms/step - loss: 0.1542 - acc: 0.9536 - val_loss: 0.2159 - val_acc: 0.9272\n",
      "Epoch 48/100\n",
      "112/112 [==============================] - 0s 2ms/step - loss: 0.1542 - acc: 0.9533 - val_loss: 0.2084 - val_acc: 0.9272\n",
      "Epoch 49/100\n",
      "112/112 [==============================] - 0s 2ms/step - loss: 0.1546 - acc: 0.9533 - val_loss: 0.2078 - val_acc: 0.9272\n",
      "Epoch 50/100\n",
      "112/112 [==============================] - 0s 2ms/step - loss: 0.1548 - acc: 0.9533 - val_loss: 0.2132 - val_acc: 0.9272\n",
      "Epoch 51/100\n",
      "112/112 [==============================] - 0s 2ms/step - loss: 0.1550 - acc: 0.9536 - val_loss: 0.2175 - val_acc: 0.9272\n",
      "Epoch 52/100\n",
      "112/112 [==============================] - 0s 2ms/step - loss: 0.1537 - acc: 0.9539 - val_loss: 0.2117 - val_acc: 0.9272\n",
      "Epoch 53/100\n",
      "112/112 [==============================] - 0s 2ms/step - loss: 0.1542 - acc: 0.9530 - val_loss: 0.2081 - val_acc: 0.9272\n",
      "Epoch 54/100\n",
      "112/112 [==============================] - 0s 2ms/step - loss: 0.1551 - acc: 0.9536 - val_loss: 0.2136 - val_acc: 0.9272\n",
      "Epoch 55/100\n",
      "112/112 [==============================] - 0s 2ms/step - loss: 0.1535 - acc: 0.9539 - val_loss: 0.2088 - val_acc: 0.9272\n",
      "Epoch 56/100\n",
      "112/112 [==============================] - 0s 2ms/step - loss: 0.1535 - acc: 0.9536 - val_loss: 0.2344 - val_acc: 0.9272\n",
      "Epoch 57/100\n",
      "112/112 [==============================] - 0s 2ms/step - loss: 0.1546 - acc: 0.9539 - val_loss: 0.2151 - val_acc: 0.9272\n",
      "Epoch 58/100\n",
      "112/112 [==============================] - 0s 2ms/step - loss: 0.1535 - acc: 0.9536 - val_loss: 0.2099 - val_acc: 0.9272\n",
      "Epoch 59/100\n",
      "112/112 [==============================] - 0s 2ms/step - loss: 0.1543 - acc: 0.9539 - val_loss: 0.2185 - val_acc: 0.9272\n",
      "Epoch 60/100\n",
      "112/112 [==============================] - 0s 2ms/step - loss: 0.1527 - acc: 0.9536 - val_loss: 0.2087 - val_acc: 0.9272\n",
      "Epoch 61/100\n",
      "112/112 [==============================] - 0s 2ms/step - loss: 0.1522 - acc: 0.9536 - val_loss: 0.2226 - val_acc: 0.9272\n",
      "Epoch 62/100\n",
      "112/112 [==============================] - 0s 2ms/step - loss: 0.1520 - acc: 0.9536 - val_loss: 0.2107 - val_acc: 0.9253\n",
      "Epoch 63/100\n",
      "112/112 [==============================] - 0s 2ms/step - loss: 0.1532 - acc: 0.9533 - val_loss: 0.2123 - val_acc: 0.9272\n",
      "Epoch 64/100\n",
      "112/112 [==============================] - 0s 2ms/step - loss: 0.1532 - acc: 0.9522 - val_loss: 0.2461 - val_acc: 0.9272\n",
      "Epoch 65/100\n",
      "112/112 [==============================] - 0s 2ms/step - loss: 0.1538 - acc: 0.9530 - val_loss: 0.2116 - val_acc: 0.9272\n",
      "Epoch 66/100\n",
      "112/112 [==============================] - 0s 2ms/step - loss: 0.1511 - acc: 0.9536 - val_loss: 0.2104 - val_acc: 0.9272\n",
      "Epoch 67/100\n",
      "112/112 [==============================] - 0s 2ms/step - loss: 0.1500 - acc: 0.9539 - val_loss: 0.2161 - val_acc: 0.9272\n",
      "Epoch 68/100\n",
      "112/112 [==============================] - 0s 2ms/step - loss: 0.1525 - acc: 0.9536 - val_loss: 0.2103 - val_acc: 0.9272\n",
      "Epoch 69/100\n",
      "112/112 [==============================] - 0s 2ms/step - loss: 0.1518 - acc: 0.9536 - val_loss: 0.2136 - val_acc: 0.9272\n",
      "Epoch 70/100\n",
      "112/112 [==============================] - 0s 2ms/step - loss: 0.1509 - acc: 0.9533 - val_loss: 0.2217 - val_acc: 0.9272\n",
      "Epoch 71/100\n",
      "112/112 [==============================] - 0s 2ms/step - loss: 0.1526 - acc: 0.9541 - val_loss: 0.2153 - val_acc: 0.9272\n",
      "Epoch 72/100\n",
      "112/112 [==============================] - 0s 2ms/step - loss: 0.1493 - acc: 0.9533 - val_loss: 0.2136 - val_acc: 0.9234\n",
      "Epoch 73/100\n",
      "112/112 [==============================] - 0s 2ms/step - loss: 0.1547 - acc: 0.9536 - val_loss: 0.2271 - val_acc: 0.9272\n",
      "Epoch 74/100\n",
      "112/112 [==============================] - 0s 2ms/step - loss: 0.1535 - acc: 0.9539 - val_loss: 0.2218 - val_acc: 0.9272\n",
      "Epoch 75/100\n",
      "112/112 [==============================] - 0s 2ms/step - loss: 0.1541 - acc: 0.9533 - val_loss: 0.2233 - val_acc: 0.9272\n",
      "Epoch 76/100\n",
      "112/112 [==============================] - 0s 2ms/step - loss: 0.1501 - acc: 0.9536 - val_loss: 0.2201 - val_acc: 0.9272\n",
      "Epoch 77/100\n",
      "112/112 [==============================] - 0s 2ms/step - loss: 0.1511 - acc: 0.9539 - val_loss: 0.2401 - val_acc: 0.9272\n",
      "Epoch 78/100\n",
      "112/112 [==============================] - 0s 2ms/step - loss: 0.1523 - acc: 0.9527 - val_loss: 0.2245 - val_acc: 0.9272\n",
      "Epoch 79/100\n",
      "112/112 [==============================] - 0s 2ms/step - loss: 0.1513 - acc: 0.9530 - val_loss: 0.2115 - val_acc: 0.9272\n",
      "Epoch 80/100\n",
      "112/112 [==============================] - 0s 2ms/step - loss: 0.1508 - acc: 0.9530 - val_loss: 0.2127 - val_acc: 0.9272\n",
      "Epoch 81/100\n",
      "112/112 [==============================] - 0s 2ms/step - loss: 0.1494 - acc: 0.9536 - val_loss: 0.2277 - val_acc: 0.9272\n",
      "Epoch 82/100\n",
      "112/112 [==============================] - 0s 2ms/step - loss: 0.1510 - acc: 0.9539 - val_loss: 0.2292 - val_acc: 0.9272\n",
      "Epoch 83/100\n",
      "112/112 [==============================] - 0s 2ms/step - loss: 0.1509 - acc: 0.9539 - val_loss: 0.2162 - val_acc: 0.9272\n",
      "Epoch 84/100\n",
      "112/112 [==============================] - 0s 2ms/step - loss: 0.1483 - acc: 0.9536 - val_loss: 0.2411 - val_acc: 0.9272\n",
      "Epoch 85/100\n",
      "112/112 [==============================] - 0s 2ms/step - loss: 0.1505 - acc: 0.9536 - val_loss: 0.2448 - val_acc: 0.9272\n",
      "Epoch 86/100\n",
      "112/112 [==============================] - 0s 2ms/step - loss: 0.1500 - acc: 0.9539 - val_loss: 0.2155 - val_acc: 0.9272\n",
      "Epoch 87/100\n",
      "112/112 [==============================] - 0s 1ms/step - loss: 0.1489 - acc: 0.9536 - val_loss: 0.2308 - val_acc: 0.9272\n",
      "Epoch 88/100\n",
      "112/112 [==============================] - 0s 2ms/step - loss: 0.1520 - acc: 0.9541 - val_loss: 0.2214 - val_acc: 0.9215\n",
      "Epoch 89/100\n",
      "112/112 [==============================] - 0s 2ms/step - loss: 0.1509 - acc: 0.9530 - val_loss: 0.2196 - val_acc: 0.9272\n",
      "Epoch 90/100\n",
      "112/112 [==============================] - 0s 2ms/step - loss: 0.1529 - acc: 0.9533 - val_loss: 0.2265 - val_acc: 0.9272\n",
      "Epoch 91/100\n",
      "112/112 [==============================] - 0s 2ms/step - loss: 0.1523 - acc: 0.9541 - val_loss: 0.2266 - val_acc: 0.9272\n",
      "Epoch 92/100\n",
      "112/112 [==============================] - 0s 2ms/step - loss: 0.1479 - acc: 0.9533 - val_loss: 0.2322 - val_acc: 0.9272\n",
      "Epoch 93/100\n",
      "112/112 [==============================] - 0s 2ms/step - loss: 0.1485 - acc: 0.9533 - val_loss: 0.2226 - val_acc: 0.9272\n",
      "Epoch 94/100\n",
      "112/112 [==============================] - 0s 2ms/step - loss: 0.1496 - acc: 0.9533 - val_loss: 0.2265 - val_acc: 0.9272\n",
      "Epoch 95/100\n",
      "112/112 [==============================] - 0s 2ms/step - loss: 0.1510 - acc: 0.9533 - val_loss: 0.2337 - val_acc: 0.9272\n",
      "Epoch 96/100\n",
      "112/112 [==============================] - 0s 2ms/step - loss: 0.1482 - acc: 0.9533 - val_loss: 0.2230 - val_acc: 0.9272\n",
      "Epoch 97/100\n",
      "112/112 [==============================] - 0s 2ms/step - loss: 0.1474 - acc: 0.9536 - val_loss: 0.2221 - val_acc: 0.9272\n",
      "Epoch 98/100\n",
      "112/112 [==============================] - 0s 2ms/step - loss: 0.1477 - acc: 0.9536 - val_loss: 0.2241 - val_acc: 0.9272\n",
      "Epoch 99/100\n",
      "112/112 [==============================] - 0s 2ms/step - loss: 0.1479 - acc: 0.9541 - val_loss: 0.2201 - val_acc: 0.9272\n",
      "Epoch 100/100\n",
      "112/112 [==============================] - 0s 2ms/step - loss: 0.1468 - acc: 0.9527 - val_loss: 0.2207 - val_acc: 0.9272\n"
     ]
    }
   ],
   "source": [
    "history = model.fit(X_train, Y_train, batch_size = 32, epochs = 100, validation_data=(X_val, Y_val))"
   ]
  },
  {
   "cell_type": "code",
   "execution_count": 177,
   "metadata": {
    "colab": {
     "base_uri": "https://localhost:8080/"
    },
    "id": "eY6A4no2BYXk",
    "outputId": "37788f5c-1704-4268-88f3-aa8ed26784d9"
   },
   "outputs": [
    {
     "name": "stdout",
     "output_type": "stream",
     "text": [
      "17/17 [==============================] - 0s 2ms/step - loss: 0.2207 - acc: 0.9272\n"
     ]
    },
    {
     "data": {
      "text/plain": [
       "[0.2207314521074295, 0.9272030591964722]"
      ]
     },
     "execution_count": 177,
     "metadata": {},
     "output_type": "execute_result"
    }
   ],
   "source": [
    "model.evaluate(X_val, Y_val)"
   ]
  },
  {
   "cell_type": "code",
   "execution_count": 178,
   "metadata": {
    "colab": {
     "base_uri": "https://localhost:8080/",
     "height": 562
    },
    "id": "ucOxbi9TBpzY",
    "outputId": "578f5a26-13e1-479e-f5a1-d399feaa879e"
   },
   "outputs": [
    {
     "data": {
      "text/plain": [
       "Text(0.5, 1.0, 'Training and validation loss')"
      ]
     },
     "execution_count": 178,
     "metadata": {},
     "output_type": "execute_result"
    },
    {
     "data": {
      "image/png": "[encoded data removed]",
      "text/plain": [
       "<Figure size 432x288 with 1 Axes>"
      ]
     },
     "metadata": {
      "needs_background": "light"
     },
     "output_type": "display_data"
    },
    {
     "data": {
      "image/png": "[encoded data removed]",
      "text/plain": [
       "<Figure size 432x288 with 1 Axes>"
      ]
     },
     "metadata": {
      "needs_background": "light"
     },
     "output_type": "display_data"
    }
   ],
   "source": [
    "import matplotlib.pyplot as plt\n",
    "#-----------------------------------------------------------\n",
    "# Retrieve a list of list results on training and test data\n",
    "# sets for each training epoch\n",
    "#-----------------------------------------------------------\n",
    "acc      = history.history[     'acc' ]\n",
    "val_acc  = history.history[ 'val_acc' ]\n",
    "loss     = history.history[    'loss' ]\n",
    "val_loss = history.history['val_loss' ]\n",
    "\n",
    "epochs   = range(len(acc)) # Get number of epochs\n",
    "\n",
    "#------------------------------------------------\n",
    "# Plot training and validation accuracy per epoch\n",
    "#------------------------------------------------\n",
    "plt.plot  ( epochs,     acc )\n",
    "plt.plot  ( epochs, val_acc )\n",
    "plt.title ('Training and validation accuracy')\n",
    "plt.figure()\n",
    "\n",
    "#------------------------------------------------\n",
    "# Plot training and validation loss per epoch\n",
    "#------------------------------------------------\n",
    "plt.plot  ( epochs,     loss )\n",
    "plt.plot  ( epochs, val_loss )\n",
    "plt.title ('Training and validation loss'   )"
   ]
  },
  {
   "cell_type": "code",
   "execution_count": 195,
   "metadata": {},
   "outputs": [
    {
     "name": "stdout",
     "output_type": "stream",
     "text": [
      "Wall time: 92.8 ms\n"
     ]
    }
   ],
   "source": [
    "%%time\n",
    "Y_pred = model.predict(X_test)"
   ]
  },
  {
   "cell_type": "code",
   "execution_count": 198,
   "metadata": {},
   "outputs": [
    {
     "name": "stdout",
     "output_type": "stream",
     "text": [
      "AUC Score        : 50.0\n",
      "Recall Score     : 0.0\n",
      "Precission Score : 0.0\n",
      "Accuracy Score   : 95.54896142433235\n"
     ]
    },
    {
     "name": "stderr",
     "output_type": "stream",
     "text": [
      "c:\\users\\asus\\appdata\\local\\programs\\python\\python39\\lib\\site-packages\\sklearn\\metrics\\_classification.py:1248: UndefinedMetricWarning: Precision is ill-defined and being set to 0.0 due to no predicted samples. Use `zero_division` parameter to control this behavior.\n",
      "  _warn_prf(average, modifier, msg_start, len(result))\n"
     ]
    }
   ],
   "source": [
    "Y_pred = [1 if x>0.5 else 0 for x in Y_pred]\n",
    "seeAllMetrics(Y_test, Y_pred)"
   ]
  },
  {
   "cell_type": "markdown",
   "metadata": {},
   "source": [
    "# Documentasi 26.05.2021\n",
    "\n",
    "In this Colab, we are doing data preprocessing and making a model. \n",
    "For Preprocessing we:\n",
    "\n",
    "1. Convert column \"avg_glucose_level\" from numerical data to categorical (\"low\", \"normal\", \"little high\" and \"high\")\n",
    "\n",
    "2. Spliting the features and the target\n",
    "\n",
    "3. Label encoding \"gender\", \"ever married\", \"recidence type\".\n",
    "\n",
    "4. Hot one encoding \"smoking status\", \"avg_glucose_level\", \"work_type\"\n",
    "\n",
    "5. Splitting the dataset into Training set and Test set\n",
    "\n",
    "6. Feature Scalling\n",
    "\n",
    "\n",
    "For model we using :\n",
    "\n",
    "1. Naive Bayes\n",
    "\n",
    "2. Decission Tree\n",
    "\n",
    "3. SVC\n",
    "\n",
    "4. Random Forest\n",
    "\n",
    "5. DNN"
   ]
  }
 ],
 "metadata": {
  "colab": {
   "collapsed_sections": [
    "OPDrUF2w1UiP"
   ],
   "name": "Colab Project Preprocessing.ipynb",
   "provenance": [],
   "toc_visible": true
  },
  "kernelspec": {
   "display_name": "Python 3",
   "language": "python",
   "name": "python3"
  },
  "language_info": {
   "codemirror_mode": {
    "name": "ipython",
    "version": 3
   },
   "file_extension": ".py",
   "mimetype": "text/x-python",
   "name": "python",
   "nbconvert_exporter": "python",
   "pygments_lexer": "ipython3",
   "version": "3.9.5"
  }
 },
 "nbformat": 4,
 "nbformat_minor": 1
}
