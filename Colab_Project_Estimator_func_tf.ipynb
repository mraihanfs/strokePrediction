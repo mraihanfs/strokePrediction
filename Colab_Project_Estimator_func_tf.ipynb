{
 "cells": [
  {
   "cell_type": "markdown",
   "metadata": {
    "id": "K6hAXVOysGL7"
   },
   "source": [
    "# Uploading CSV from previous EDA"
   ]
  },
  {
   "cell_type": "code",
   "execution_count": 1,
   "metadata": {
    "id": "NTG_wWa4smTk"
   },
   "outputs": [],
   "source": [
    "import pandas as pd \n",
    "from tensorflow import feature_column as fc\n",
    "import tensorflow as tf\n",
    "path = \"Preprocessing.csv\"\n",
    "df = pd.read_csv(path)\n"
   ]
  },
  {
   "cell_type": "markdown",
   "metadata": {
    "id": "kmzc8Ud7tPwn"
   },
   "source": [
    "# Preprocessing"
   ]
  },
  {
   "cell_type": "code",
   "execution_count": 2,
   "metadata": {
    "colab": {
     "base_uri": "https://localhost:8080/",
     "height": 419
    },
    "id": "6gp_O5THtdnC",
    "outputId": "ec754186-8e22-4702-d07a-c677d0895f3b"
   },
   "outputs": [
    {
     "data": {
      "text/html": [
       "<div>\n",
       "<style scoped>\n",
       "    .dataframe tbody tr th:only-of-type {\n",
       "        vertical-align: middle;\n",
       "    }\n",
       "\n",
       "    .dataframe tbody tr th {\n",
       "        vertical-align: top;\n",
       "    }\n",
       "\n",
       "    .dataframe thead th {\n",
       "        text-align: right;\n",
       "    }\n",
       "</style>\n",
       "<table border=\"1\" class=\"dataframe\">\n",
       "  <thead>\n",
       "    <tr style=\"text-align: right;\">\n",
       "      <th></th>\n",
       "      <th>gender</th>\n",
       "      <th>age</th>\n",
       "      <th>hypertension</th>\n",
       "      <th>heart_disease</th>\n",
       "      <th>ever_married</th>\n",
       "      <th>work_type</th>\n",
       "      <th>Residence_type</th>\n",
       "      <th>avg_glucose_level</th>\n",
       "      <th>bmi</th>\n",
       "      <th>smoking_status</th>\n",
       "      <th>stroke</th>\n",
       "    </tr>\n",
       "  </thead>\n",
       "  <tbody>\n",
       "    <tr>\n",
       "      <th>0</th>\n",
       "      <td>Male</td>\n",
       "      <td>67.0</td>\n",
       "      <td>0</td>\n",
       "      <td>1</td>\n",
       "      <td>Yes</td>\n",
       "      <td>Private</td>\n",
       "      <td>Urban</td>\n",
       "      <td>228.69</td>\n",
       "      <td>36.600000</td>\n",
       "      <td>formerly smoked</td>\n",
       "      <td>1</td>\n",
       "    </tr>\n",
       "    <tr>\n",
       "      <th>1</th>\n",
       "      <td>Female</td>\n",
       "      <td>61.0</td>\n",
       "      <td>0</td>\n",
       "      <td>0</td>\n",
       "      <td>Yes</td>\n",
       "      <td>Self-employed</td>\n",
       "      <td>Rural</td>\n",
       "      <td>202.21</td>\n",
       "      <td>28.893237</td>\n",
       "      <td>never smoked</td>\n",
       "      <td>1</td>\n",
       "    </tr>\n",
       "    <tr>\n",
       "      <th>2</th>\n",
       "      <td>Male</td>\n",
       "      <td>80.0</td>\n",
       "      <td>0</td>\n",
       "      <td>1</td>\n",
       "      <td>Yes</td>\n",
       "      <td>Private</td>\n",
       "      <td>Rural</td>\n",
       "      <td>105.92</td>\n",
       "      <td>32.500000</td>\n",
       "      <td>never smoked</td>\n",
       "      <td>1</td>\n",
       "    </tr>\n",
       "    <tr>\n",
       "      <th>3</th>\n",
       "      <td>Female</td>\n",
       "      <td>49.0</td>\n",
       "      <td>0</td>\n",
       "      <td>0</td>\n",
       "      <td>Yes</td>\n",
       "      <td>Private</td>\n",
       "      <td>Urban</td>\n",
       "      <td>171.23</td>\n",
       "      <td>34.400000</td>\n",
       "      <td>smokes</td>\n",
       "      <td>1</td>\n",
       "    </tr>\n",
       "    <tr>\n",
       "      <th>4</th>\n",
       "      <td>Female</td>\n",
       "      <td>79.0</td>\n",
       "      <td>1</td>\n",
       "      <td>0</td>\n",
       "      <td>Yes</td>\n",
       "      <td>Self-employed</td>\n",
       "      <td>Rural</td>\n",
       "      <td>174.12</td>\n",
       "      <td>24.000000</td>\n",
       "      <td>never smoked</td>\n",
       "      <td>1</td>\n",
       "    </tr>\n",
       "    <tr>\n",
       "      <th>...</th>\n",
       "      <td>...</td>\n",
       "      <td>...</td>\n",
       "      <td>...</td>\n",
       "      <td>...</td>\n",
       "      <td>...</td>\n",
       "      <td>...</td>\n",
       "      <td>...</td>\n",
       "      <td>...</td>\n",
       "      <td>...</td>\n",
       "      <td>...</td>\n",
       "      <td>...</td>\n",
       "    </tr>\n",
       "    <tr>\n",
       "      <th>5105</th>\n",
       "      <td>Female</td>\n",
       "      <td>80.0</td>\n",
       "      <td>1</td>\n",
       "      <td>0</td>\n",
       "      <td>Yes</td>\n",
       "      <td>Private</td>\n",
       "      <td>Urban</td>\n",
       "      <td>83.75</td>\n",
       "      <td>28.893237</td>\n",
       "      <td>never smoked</td>\n",
       "      <td>0</td>\n",
       "    </tr>\n",
       "    <tr>\n",
       "      <th>5106</th>\n",
       "      <td>Female</td>\n",
       "      <td>81.0</td>\n",
       "      <td>0</td>\n",
       "      <td>0</td>\n",
       "      <td>Yes</td>\n",
       "      <td>Self-employed</td>\n",
       "      <td>Urban</td>\n",
       "      <td>125.20</td>\n",
       "      <td>40.000000</td>\n",
       "      <td>never smoked</td>\n",
       "      <td>0</td>\n",
       "    </tr>\n",
       "    <tr>\n",
       "      <th>5107</th>\n",
       "      <td>Female</td>\n",
       "      <td>35.0</td>\n",
       "      <td>0</td>\n",
       "      <td>0</td>\n",
       "      <td>Yes</td>\n",
       "      <td>Self-employed</td>\n",
       "      <td>Rural</td>\n",
       "      <td>82.99</td>\n",
       "      <td>30.600000</td>\n",
       "      <td>never smoked</td>\n",
       "      <td>0</td>\n",
       "    </tr>\n",
       "    <tr>\n",
       "      <th>5108</th>\n",
       "      <td>Male</td>\n",
       "      <td>51.0</td>\n",
       "      <td>0</td>\n",
       "      <td>0</td>\n",
       "      <td>Yes</td>\n",
       "      <td>Private</td>\n",
       "      <td>Rural</td>\n",
       "      <td>166.29</td>\n",
       "      <td>25.600000</td>\n",
       "      <td>formerly smoked</td>\n",
       "      <td>0</td>\n",
       "    </tr>\n",
       "    <tr>\n",
       "      <th>5109</th>\n",
       "      <td>Female</td>\n",
       "      <td>44.0</td>\n",
       "      <td>0</td>\n",
       "      <td>0</td>\n",
       "      <td>Yes</td>\n",
       "      <td>Govt_job</td>\n",
       "      <td>Urban</td>\n",
       "      <td>85.28</td>\n",
       "      <td>26.200000</td>\n",
       "      <td>Unknown</td>\n",
       "      <td>0</td>\n",
       "    </tr>\n",
       "  </tbody>\n",
       "</table>\n",
       "<p>5109 rows × 11 columns</p>\n",
       "</div>"
      ],
      "text/plain": [
       "      gender   age  hypertension  heart_disease ever_married      work_type  \\\n",
       "0       Male  67.0             0              1          Yes        Private   \n",
       "1     Female  61.0             0              0          Yes  Self-employed   \n",
       "2       Male  80.0             0              1          Yes        Private   \n",
       "3     Female  49.0             0              0          Yes        Private   \n",
       "4     Female  79.0             1              0          Yes  Self-employed   \n",
       "...      ...   ...           ...            ...          ...            ...   \n",
       "5105  Female  80.0             1              0          Yes        Private   \n",
       "5106  Female  81.0             0              0          Yes  Self-employed   \n",
       "5107  Female  35.0             0              0          Yes  Self-employed   \n",
       "5108    Male  51.0             0              0          Yes        Private   \n",
       "5109  Female  44.0             0              0          Yes       Govt_job   \n",
       "\n",
       "     Residence_type  avg_glucose_level        bmi   smoking_status  stroke  \n",
       "0             Urban             228.69  36.600000  formerly smoked       1  \n",
       "1             Rural             202.21  28.893237     never smoked       1  \n",
       "2             Rural             105.92  32.500000     never smoked       1  \n",
       "3             Urban             171.23  34.400000           smokes       1  \n",
       "4             Rural             174.12  24.000000     never smoked       1  \n",
       "...             ...                ...        ...              ...     ...  \n",
       "5105          Urban              83.75  28.893237     never smoked       0  \n",
       "5106          Urban             125.20  40.000000     never smoked       0  \n",
       "5107          Rural              82.99  30.600000     never smoked       0  \n",
       "5108          Rural             166.29  25.600000  formerly smoked       0  \n",
       "5109          Urban              85.28  26.200000          Unknown       0  \n",
       "\n",
       "[5109 rows x 11 columns]"
      ]
     },
     "execution_count": 2,
     "metadata": {},
     "output_type": "execute_result"
    }
   ],
   "source": [
    "df.drop(df[df['gender']=='Other'].index, inplace=True)\n",
    "df"
   ]
  },
  {
   "cell_type": "code",
   "execution_count": 3,
   "metadata": {},
   "outputs": [
    {
     "data": {
      "text/plain": [
       "(['gender', 'ever_married', 'work_type', 'Residence_type', 'smoking_status'],\n",
       " ['age', 'hypertension', 'heart_disease', 'avg_glucose_level', 'bmi'],\n",
       " ['stroke'])"
      ]
     },
     "execution_count": 3,
     "metadata": {},
     "output_type": "execute_result"
    }
   ],
   "source": [
    "cat_columns = []\n",
    "num_columns = []\n",
    "target = ['stroke']\n",
    "for i in df:\n",
    "  if i != 'id' and i != 'stroke':\n",
    "    if df[i].dtypes == 'object':\n",
    "        cat_columns.append(i)\n",
    "    elif df[i].dtypes != 'object':\n",
    "        num_columns.append(i)\n",
    "          \n",
    "cat_columns, num_columns, target"
   ]
  },
  {
   "cell_type": "code",
   "execution_count": 4,
   "metadata": {},
   "outputs": [],
   "source": [
    "columns = df.columns\n",
    "X = df.iloc[:, :-1]\n",
    "Y = df.iloc[:, -1]\n",
    "from sklearn.model_selection import train_test_split\n",
    "X_train, X_test, Y_train, Y_test = train_test_split(X, Y, test_size = 0.2, random_state = 1)"
   ]
  },
  {
   "cell_type": "code",
   "execution_count": 5,
   "metadata": {},
   "outputs": [
    {
     "data": {
      "text/plain": [
       "(<tf.Tensor: shape=(1, 20), dtype=float32, numpy=\n",
       " array([[ 1.  ,  0.  , 79.  , 72.04, 23.6 ,  1.  ,  0.  ,  1.  ,  0.  ,\n",
       "          0.  ,  1.  ,  1.  ,  0.  ,  0.  ,  0.  ,  1.  ,  0.  ,  0.  ,\n",
       "          0.  ,  0.  ]], dtype=float32)>,\n",
       " Index(['gender', 'age', 'hypertension', 'heart_disease', 'ever_married',\n",
       "        'work_type', 'Residence_type', 'avg_glucose_level', 'bmi',\n",
       "        'smoking_status'],\n",
       "       dtype='object'),\n",
       " [IndicatorColumn(categorical_column=VocabularyListCategoricalColumn(key='gender', vocabulary_list=('Male', 'Female'), dtype=tf.string, default_value=-1, num_oov_buckets=0)),\n",
       "  IndicatorColumn(categorical_column=VocabularyListCategoricalColumn(key='ever_married', vocabulary_list=('Yes', 'No'), dtype=tf.string, default_value=-1, num_oov_buckets=0)),\n",
       "  IndicatorColumn(categorical_column=VocabularyListCategoricalColumn(key='work_type', vocabulary_list=('Self-employed', 'Private', 'children', 'Govt_job', 'Never_worked'), dtype=tf.string, default_value=-1, num_oov_buckets=0)),\n",
       "  IndicatorColumn(categorical_column=VocabularyListCategoricalColumn(key='Residence_type', vocabulary_list=('Urban', 'Rural'), dtype=tf.string, default_value=-1, num_oov_buckets=0)),\n",
       "  IndicatorColumn(categorical_column=VocabularyListCategoricalColumn(key='smoking_status', vocabulary_list=('formerly smoked', 'never smoked', 'Unknown', 'smokes'), dtype=tf.string, default_value=-1, num_oov_buckets=0)),\n",
       "  NumericColumn(key='age', shape=(1,), default_value=None, dtype=tf.float32, normalizer_fn=None),\n",
       "  NumericColumn(key='hypertension', shape=(1,), default_value=None, dtype=tf.float32, normalizer_fn=None),\n",
       "  NumericColumn(key='heart_disease', shape=(1,), default_value=None, dtype=tf.float32, normalizer_fn=None),\n",
       "  NumericColumn(key='avg_glucose_level', shape=(1,), default_value=None, dtype=tf.float32, normalizer_fn=None),\n",
       "  NumericColumn(key='bmi', shape=(1,), default_value=None, dtype=tf.float32, normalizer_fn=None)])"
      ]
     },
     "execution_count": 5,
     "metadata": {},
     "output_type": "execute_result"
    }
   ],
   "source": [
    "def one_hat_encoding(feature_name, vocab):\n",
    "    return fc.indicator_column(fc.categorical_column_with_vocabulary_list(feature_name, vocab))\n",
    "\n",
    "feature_columns = []\n",
    "for feat_name in cat_columns :\n",
    "    vocabulary = X_train[feat_name].unique()\n",
    "    feature_columns.append(one_hat_encoding(feat_name, vocabulary))\n",
    "    \n",
    "for feat_name in num_columns:\n",
    "    feature_columns.append(fc.numeric_column(feat_name, dtype=tf.float32))\n",
    "    \n",
    "example_batch = next(iter(X_train))[0]\n",
    "def demo(feature_column):\n",
    "    feature_layer = tf.keras.layers.DenseFeatures(feature_column)\n",
    "    print(feature_layer(example_batch).numpy())\n",
    "    \n",
    "\n",
    "tf.keras.layers.DenseFeatures(feature_columns)(dict(X_train.head(1))), X_train.columns, feature_columns"
   ]
  },
  {
   "cell_type": "code",
   "execution_count": 6,
   "metadata": {},
   "outputs": [],
   "source": [
    "def make_input_fn(X, Y, n_epochs=None, shuffle=True):\n",
    "    def input_fn():\n",
    "        dataset = tf.data.Dataset.from_tensor_slices((dict(X),Y))\n",
    "        if shuffle :\n",
    "            dataset = dataset.shuffle(32)\n",
    "        dataset = dataset.repeat(n_epochs)\n",
    "        dataset = dataset.batch(32)\n",
    "        return dataset\n",
    "    return input_fn\n",
    "\n",
    "train_input_fn = make_input_fn(X_train, Y_train)\n",
    "eval_input_fn = make_input_fn(X_test, Y_test, shuffle=False, n_epochs=1)"
   ]
  },
  {
   "cell_type": "code",
   "execution_count": 7,
   "metadata": {},
   "outputs": [
    {
     "name": "stdout",
     "output_type": "stream",
     "text": [
      "INFO:tensorflow:Using default config.\n",
      "WARNING:tensorflow:Using temporary folder as model directory: C:\\Users\\ASUS\\AppData\\Local\\Temp\\tmpkp179d7y\n",
      "INFO:tensorflow:Using config: {'_model_dir': 'C:\\\\Users\\\\ASUS\\\\AppData\\\\Local\\\\Temp\\\\tmpkp179d7y', '_tf_random_seed': None, '_save_summary_steps': 100, '_save_checkpoints_steps': None, '_save_checkpoints_secs': 600, '_session_config': allow_soft_placement: true\n",
      "graph_options {\n",
      "  rewrite_options {\n",
      "    meta_optimizer_iterations: ONE\n",
      "  }\n",
      "}\n",
      ", '_keep_checkpoint_max': 5, '_keep_checkpoint_every_n_hours': 10000, '_log_step_count_steps': 100, '_train_distribute': None, '_device_fn': None, '_protocol': None, '_eval_distribute': None, '_experimental_distribute': None, '_experimental_max_worker_delay_secs': None, '_session_creation_timeout_secs': 7200, '_checkpoint_save_graph_def': True, '_service': None, '_cluster_spec': ClusterSpec({}), '_task_type': 'worker', '_task_id': 0, '_global_id_in_cluster': 0, '_master': '', '_evaluation_master': '', '_is_chief': True, '_num_ps_replicas': 0, '_num_worker_replicas': 1}\n",
      "WARNING:tensorflow:From c:\\users\\asus\\appdata\\local\\programs\\python\\python39\\lib\\site-packages\\tensorflow_estimator\\python\\estimator\\canned\\boosted_trees.py:398: VocabularyListCategoricalColumn._num_buckets (from tensorflow.python.feature_column.feature_column_v2) is deprecated and will be removed in a future version.\n",
      "Instructions for updating:\n",
      "The old _FeatureColumn APIs are being deprecated. Please use the new FeatureColumn APIs instead.\n",
      "WARNING:tensorflow:From c:\\users\\asus\\appdata\\local\\programs\\python\\python39\\lib\\site-packages\\tensorflow\\python\\training\\training_util.py:235: Variable.initialized_value (from tensorflow.python.ops.variables) is deprecated and will be removed in a future version.\n",
      "Instructions for updating:\n",
      "Use Variable.read_value. Variables in 2.X are initialized automatically both in eager and graph (inside tf.defun) contexts.\n",
      "INFO:tensorflow:Calling model_fn.\n"
     ]
    },
    {
     "name": "stderr",
     "output_type": "stream",
     "text": [
      "Exception ignored in: <function CapturableResource.__del__ at 0x0000022DD01891F0>\n",
      "Traceback (most recent call last):\n",
      "  File \"c:\\users\\asus\\appdata\\local\\programs\\python\\python39\\lib\\site-packages\\tensorflow\\python\\training\\tracking\\tracking.py\", line 269, in __del__\n",
      "    with self._destruction_context():\n",
      "AttributeError: 'TreeEnsemble' object has no attribute '_destruction_context'\n"
     ]
    },
    {
     "name": "stdout",
     "output_type": "stream",
     "text": [
      "INFO:tensorflow:Done calling model_fn.\n",
      "INFO:tensorflow:Create CheckpointSaverHook.\n",
      "WARNING:tensorflow:Issue encountered when serializing resources.\n",
      "Type is unsupported, or the types of the items don't match field type in CollectionDef. Note this is a warning and probably safe to ignore.\n",
      "'_Resource' object has no attribute 'name'\n",
      "INFO:tensorflow:Graph was finalized.\n",
      "INFO:tensorflow:Running local_init_op.\n",
      "INFO:tensorflow:Done running local_init_op.\n",
      "WARNING:tensorflow:Issue encountered when serializing resources.\n",
      "Type is unsupported, or the types of the items don't match field type in CollectionDef. Note this is a warning and probably safe to ignore.\n",
      "'_Resource' object has no attribute 'name'\n",
      "INFO:tensorflow:Calling checkpoint listeners before saving checkpoint 0...\n",
      "INFO:tensorflow:Saving checkpoints for 0 into C:\\Users\\ASUS\\AppData\\Local\\Temp\\tmpkp179d7y\\model.ckpt.\n",
      "WARNING:tensorflow:Issue encountered when serializing resources.\n",
      "Type is unsupported, or the types of the items don't match field type in CollectionDef. Note this is a warning and probably safe to ignore.\n",
      "'_Resource' object has no attribute 'name'\n",
      "INFO:tensorflow:Calling checkpoint listeners after saving checkpoint 0...\n",
      "INFO:tensorflow:loss = 0.6931472, step = 0\n",
      "WARNING:tensorflow:It seems that global step (tf.train.get_global_step) has not been increased. Current value (could be stable): 0 vs previous value: 0. You could increase the global step by passing tf.train.get_global_step() to Optimizer.apply_gradients or Optimizer.minimize.\n",
      "INFO:tensorflow:global_step/sec: 21.9402\n",
      "INFO:tensorflow:loss = 8081107.0, step = 99 (4.563 sec)\n",
      "INFO:tensorflow:Calling checkpoint listeners before saving checkpoint 100...\n",
      "INFO:tensorflow:Saving checkpoints for 100 into C:\\Users\\ASUS\\AppData\\Local\\Temp\\tmpkp179d7y\\model.ckpt.\n",
      "WARNING:tensorflow:Issue encountered when serializing resources.\n",
      "Type is unsupported, or the types of the items don't match field type in CollectionDef. Note this is a warning and probably safe to ignore.\n",
      "'_Resource' object has no attribute 'name'\n",
      "INFO:tensorflow:Calling checkpoint listeners after saving checkpoint 100...\n",
      "INFO:tensorflow:Loss for final step: 8081107.0.\n",
      "INFO:tensorflow:Calling model_fn.\n",
      "WARNING:tensorflow:From c:\\users\\asus\\appdata\\local\\programs\\python\\python39\\lib\\site-packages\\tensorflow_estimator\\python\\estimator\\canned\\head.py:637: auc (from tensorflow.python.ops.metrics_impl) is deprecated and will be removed in a future version.\n",
      "Instructions for updating:\n",
      "The value of AUC returned by this may race with the update so this is deprecated. Please use tf.keras.metrics.AUC instead.\n",
      "WARNING:tensorflow:Trapezoidal rule is known to produce incorrect PR-AUCs; please switch to \"careful_interpolation\" instead.\n",
      "WARNING:tensorflow:Trapezoidal rule is known to produce incorrect PR-AUCs; please switch to \"careful_interpolation\" instead.\n"
     ]
    },
    {
     "name": "stderr",
     "output_type": "stream",
     "text": [
      "Exception ignored in: <function CapturableResource.__del__ at 0x0000022DD01891F0>\n",
      "Traceback (most recent call last):\n",
      "  File \"c:\\users\\asus\\appdata\\local\\programs\\python\\python39\\lib\\site-packages\\tensorflow\\python\\training\\tracking\\tracking.py\", line 269, in __del__\n",
      "    with self._destruction_context():\n",
      "AttributeError: 'TreeEnsemble' object has no attribute '_destruction_context'\n"
     ]
    },
    {
     "name": "stdout",
     "output_type": "stream",
     "text": [
      "INFO:tensorflow:Done calling model_fn.\n",
      "INFO:tensorflow:Starting evaluation at 2021-05-23T19:58:03\n",
      "INFO:tensorflow:Graph was finalized.\n",
      "INFO:tensorflow:Restoring parameters from C:\\Users\\ASUS\\AppData\\Local\\Temp\\tmpkp179d7y\\model.ckpt-100\n",
      "INFO:tensorflow:Running local_init_op.\n",
      "INFO:tensorflow:Done running local_init_op.\n",
      "INFO:tensorflow:Inference Time : 2.03723s\n",
      "INFO:tensorflow:Finished evaluation at 2021-05-23-19:58:05\n",
      "INFO:tensorflow:Saving dict for global step 100: accuracy = 0.47358122, accuracy_baseline = 0.9412916, auc = 0.57191616, auc_precision_recall = 0.3875693, average_loss = 59776136.0, global_step = 100, label/mean = 0.058708414, loss = 59932130.0, precision = 0.073214285, prediction/mean = 0.5479452, recall = 0.68333334\n",
      "WARNING:tensorflow:Issue encountered when serializing resources.\n",
      "Type is unsupported, or the types of the items don't match field type in CollectionDef. Note this is a warning and probably safe to ignore.\n",
      "'_Resource' object has no attribute 'name'\n",
      "INFO:tensorflow:Saving 'checkpoint_path' summary for global step 100: C:\\Users\\ASUS\\AppData\\Local\\Temp\\tmpkp179d7y\\model.ckpt-100\n",
      "accuracy                4.735812e-01\n",
      "accuracy_baseline       9.412916e-01\n",
      "auc                     5.719162e-01\n",
      "auc_precision_recall    3.875693e-01\n",
      "average_loss            5.977614e+07\n",
      "label/mean              5.870841e-02\n",
      "loss                    5.993213e+07\n",
      "precision               7.321429e-02\n",
      "prediction/mean         5.479452e-01\n",
      "recall                  6.833333e-01\n",
      "global_step             1.000000e+02\n",
      "dtype: float64\n"
     ]
    }
   ],
   "source": [
    "tree = tf.estimator.BoostedTreesClassifier(feature_columns, n_batches_per_layer=1)\n",
    "tree.train(train_input_fn, max_steps=100)\n",
    "result = tree.evaluate(eval_input_fn)\n",
    "print(pd.Series(result))"
   ]
  },
  {
   "cell_type": "code",
   "execution_count": 35,
   "metadata": {},
   "outputs": [
    {
     "name": "stdout",
     "output_type": "stream",
     "text": [
      "INFO:tensorflow:Calling model_fn.\n"
     ]
    },
    {
     "name": "stderr",
     "output_type": "stream",
     "text": [
      "Exception ignored in: <function CapturableResource.__del__ at 0x0000022DD01891F0>\n",
      "Traceback (most recent call last):\n",
      "  File \"c:\\users\\asus\\appdata\\local\\programs\\python\\python39\\lib\\site-packages\\tensorflow\\python\\training\\tracking\\tracking.py\", line 269, in __del__\n",
      "    with self._destruction_context():\n",
      "AttributeError: 'TreeEnsemble' object has no attribute '_destruction_context'\n"
     ]
    },
    {
     "name": "stdout",
     "output_type": "stream",
     "text": [
      "INFO:tensorflow:Done calling model_fn.\n",
      "INFO:tensorflow:Graph was finalized.\n",
      "INFO:tensorflow:Restoring parameters from C:\\Users\\ASUS\\AppData\\Local\\Temp\\tmpkp179d7y\\model.ckpt-100\n",
      "INFO:tensorflow:Running local_init_op.\n",
      "INFO:tensorflow:Done running local_init_op.\n"
     ]
    },
    {
     "data": {
      "text/plain": [
       "False"
      ]
     },
     "execution_count": 35,
     "metadata": {},
     "output_type": "execute_result"
    }
   ],
   "source": [
    "def make_input_fn1(X):\n",
    "    def input_fn():\n",
    "        dataset = tf.data.Dataset.from_tensors((dict(X))).batch(256)\n",
    "        return dataset\n",
    "    return input_fn\n",
    "\n",
    "columns = [x for x in df.columns if x != 'stroke']\n",
    "d = {'gender':['Male'], \n",
    "    'age':[25], \n",
    "    'hypertension':[0], \n",
    "    'heart_disease':[0],\n",
    "    'ever_married':['No'],\n",
    "    'work_type':['Never_worked'], \n",
    "    'Residence_type':['Urban'],\n",
    "    'avg_glucose_level':[150],\n",
    "    'bmi':[21.54], \n",
    "    'smoking_status':['never smoked']}\n",
    "df_test = pd.DataFrame(data=d)\n",
    "df_test\n",
    "df_test = make_input_fn1(df_test)\n",
    "pred_dicts1 = list(tree.predict(df_test))\n",
    "pred = pred_dicts1[0]['probabilities'][1] > 0.5\n",
    "pred\n"
   ]
  },
  {
   "cell_type": "code",
   "execution_count": 9,
   "metadata": {},
   "outputs": [
    {
     "name": "stdout",
     "output_type": "stream",
     "text": [
      "INFO:tensorflow:Using default config.\n",
      "WARNING:tensorflow:Using temporary folder as model directory: C:\\Users\\ASUS\\AppData\\Local\\Temp\\tmp5qrc9gsw\n",
      "INFO:tensorflow:Using config: {'_model_dir': 'C:\\\\Users\\\\ASUS\\\\AppData\\\\Local\\\\Temp\\\\tmp5qrc9gsw', '_tf_random_seed': None, '_save_summary_steps': 100, '_save_checkpoints_steps': None, '_save_checkpoints_secs': 600, '_session_config': allow_soft_placement: true\n",
      "graph_options {\n",
      "  rewrite_options {\n",
      "    meta_optimizer_iterations: ONE\n",
      "  }\n",
      "}\n",
      ", '_keep_checkpoint_max': 5, '_keep_checkpoint_every_n_hours': 10000, '_log_step_count_steps': 100, '_train_distribute': None, '_device_fn': None, '_protocol': None, '_eval_distribute': None, '_experimental_distribute': None, '_experimental_max_worker_delay_secs': None, '_session_creation_timeout_secs': 7200, '_checkpoint_save_graph_def': True, '_service': None, '_cluster_spec': ClusterSpec({}), '_task_type': 'worker', '_task_id': 0, '_global_id_in_cluster': 0, '_master': '', '_evaluation_master': '', '_is_chief': True, '_num_ps_replicas': 0, '_num_worker_replicas': 1}\n",
      "INFO:tensorflow:Calling model_fn.\n"
     ]
    },
    {
     "name": "stderr",
     "output_type": "stream",
     "text": [
      "c:\\users\\asus\\appdata\\local\\programs\\python\\python39\\lib\\site-packages\\tensorflow\\python\\keras\\engine\\base_layer_v1.py:1700: UserWarning: `layer.add_variable` is deprecated and will be removed in a future version. Please use `layer.add_weight` method instead.\n",
      "  warnings.warn('`layer.add_variable` is deprecated and '\n"
     ]
    },
    {
     "name": "stdout",
     "output_type": "stream",
     "text": [
      "WARNING:tensorflow:From c:\\users\\asus\\appdata\\local\\programs\\python\\python39\\lib\\site-packages\\tensorflow\\python\\keras\\optimizer_v2\\ftrl.py:148: calling Constant.__init__ (from tensorflow.python.ops.init_ops) with dtype is deprecated and will be removed in a future version.\n",
      "Instructions for updating:\n",
      "Call initializer instance with the dtype argument instead of passing it to the constructor\n",
      "INFO:tensorflow:Done calling model_fn.\n",
      "INFO:tensorflow:Create CheckpointSaverHook.\n",
      "INFO:tensorflow:Graph was finalized.\n",
      "INFO:tensorflow:Running local_init_op.\n",
      "INFO:tensorflow:Done running local_init_op.\n",
      "INFO:tensorflow:Calling checkpoint listeners before saving checkpoint 0...\n",
      "INFO:tensorflow:Saving checkpoints for 0 into C:\\Users\\ASUS\\AppData\\Local\\Temp\\tmp5qrc9gsw\\model.ckpt.\n",
      "INFO:tensorflow:Calling checkpoint listeners after saving checkpoint 0...\n",
      "INFO:tensorflow:loss = 0.6931472, step = 0\n",
      "INFO:tensorflow:Calling checkpoint listeners before saving checkpoint 100...\n",
      "INFO:tensorflow:Saving checkpoints for 100 into C:\\Users\\ASUS\\AppData\\Local\\Temp\\tmp5qrc9gsw\\model.ckpt.\n",
      "INFO:tensorflow:Calling checkpoint listeners after saving checkpoint 100...\n",
      "INFO:tensorflow:Loss for final step: 0.0016107616.\n",
      "INFO:tensorflow:Calling model_fn.\n",
      "INFO:tensorflow:Done calling model_fn.\n",
      "INFO:tensorflow:Starting evaluation at 2021-05-23T20:00:54\n",
      "INFO:tensorflow:Graph was finalized.\n",
      "INFO:tensorflow:Restoring parameters from C:\\Users\\ASUS\\AppData\\Local\\Temp\\tmp5qrc9gsw\\model.ckpt-100\n",
      "INFO:tensorflow:Running local_init_op.\n",
      "INFO:tensorflow:Done running local_init_op.\n",
      "INFO:tensorflow:Inference Time : 1.91373s\n",
      "INFO:tensorflow:Finished evaluation at 2021-05-23-20:00:56\n",
      "INFO:tensorflow:Saving dict for global step 100: accuracy = 0.9412916, accuracy_baseline = 0.9412916, auc = 0.54857934, auc_precision_recall = 0.0994657, average_loss = 0.43269458, global_step = 100, label/mean = 0.058708414, loss = 0.43276048, precision = 0.0, prediction/mean = 0.0015390603, recall = 0.0\n",
      "INFO:tensorflow:Saving 'checkpoint_path' summary for global step 100: C:\\Users\\ASUS\\AppData\\Local\\Temp\\tmp5qrc9gsw\\model.ckpt-100\n",
      "accuracy                  0.941292\n",
      "accuracy_baseline         0.941292\n",
      "auc                       0.548579\n",
      "auc_precision_recall      0.099466\n",
      "average_loss              0.432695\n",
      "label/mean                0.058708\n",
      "loss                      0.432760\n",
      "precision                 0.000000\n",
      "prediction/mean           0.001539\n",
      "recall                    0.000000\n",
      "global_step             100.000000\n",
      "dtype: float64\n"
     ]
    }
   ],
   "source": [
    "linear = tf.estimator.LinearClassifier(feature_columns)\n",
    "linear.train(train_input_fn, max_steps=100)\n",
    "result = linear.evaluate(eval_input_fn)\n",
    "print(pd.Series(result))"
   ]
  },
  {
   "cell_type": "code",
   "execution_count": 39,
   "metadata": {},
   "outputs": [
    {
     "name": "stdout",
     "output_type": "stream",
     "text": [
      "INFO:tensorflow:Calling model_fn.\n",
      "INFO:tensorflow:Done calling model_fn.\n",
      "INFO:tensorflow:Graph was finalized.\n",
      "INFO:tensorflow:Restoring parameters from C:\\Users\\ASUS\\AppData\\Local\\Temp\\tmp5qrc9gsw\\model.ckpt-100\n",
      "INFO:tensorflow:Running local_init_op.\n",
      "INFO:tensorflow:Done running local_init_op.\n"
     ]
    },
    {
     "data": {
      "text/plain": [
       "False"
      ]
     },
     "execution_count": 39,
     "metadata": {},
     "output_type": "execute_result"
    }
   ],
   "source": [
    "d = {'gender':['Male'], \n",
    "    'age':[25], \n",
    "    'hypertension':[0], \n",
    "    'heart_disease':[0],\n",
    "    'ever_married':['No'],\n",
    "    'work_type':['Private'], \n",
    "    'Residence_type':['Urban'],\n",
    "    'avg_glucose_level':[145],\n",
    "    'bmi':[26.79], \n",
    "    'smoking_status':['never smoked']}\n",
    "df_test = pd.DataFrame(data=d)\n",
    "df_test\n",
    "df_test = make_input_fn1(df_test)\n",
    "pred_dicts1 = list(linear.predict(df_test))\n",
    "pred = pred_dicts1[0]['probabilities'][1] > 0.5\n",
    "pred\n"
   ]
  },
  {
   "cell_type": "markdown",
   "metadata": {},
   "source": [
    "# Documentasi 23.05.2021\n",
    "\n",
    "In this Colab, we are doing data preprocessing and making a model. \n",
    "For Preprocessing we:\n",
    "\n",
    "1. Preprocessing data with tensorflow.data\n",
    "\n",
    "2. Spliting the features and the target \n",
    "\n",
    "3. Splitting the dataset into Training set and Test set using random_seed\n",
    "\n",
    "4. Comparing 2 machine learnig algorithm(Linear Claasifier and Boosted Trees Classifier \n",
    "\n",
    "5. Linear Classifier have the best accuracy 94%\n",
    "\n",
    "\n",
    "For model we using :\n",
    "\n",
    "1. Linear Classifier have accuracy 94%\n",
    "\n",
    "2. Boosted Trees Classifier have accuracy 47,3 %"
   ]
  }
 ],
 "metadata": {
  "colab": {
   "collapsed_sections": [
    "OPDrUF2w1UiP"
   ],
   "name": "Colab Project Preprocessing.ipynb",
   "provenance": [],
   "toc_visible": true
  },
  "kernelspec": {
   "display_name": "Python 3",
   "language": "python",
   "name": "python3"
  },
  "language_info": {
   "codemirror_mode": {
    "name": "ipython",
    "version": 3
   },
   "file_extension": ".py",
   "mimetype": "text/x-python",
   "name": "python",
   "nbconvert_exporter": "python",
   "pygments_lexer": "ipython3",
   "version": "3.9.5"
  }
 },
 "nbformat": 4,
 "nbformat_minor": 1
}
